{
 "cells": [
  {
   "cell_type": "code",
   "execution_count": 108,
   "metadata": {},
   "outputs": [],
   "source": [
    "#Import Python libraries\n",
    "\n",
    "import pandas as pd\n",
    "import numpy as np\n",
    "import matplotlib.pyplot as plt\n",
    "import seaborn as sns\n",
    "from matplotlib import style\n",
    "\n",
    "%matplotlib inline\n",
    "sns.set(style=\"dark\")"
   ]
  },
  {
   "cell_type": "code",
   "execution_count": 109,
   "metadata": {
    "scrolled": false
   },
   "outputs": [],
   "source": [
    "# Importing data\n",
    "product = pd.read_csv('./raw_data/product.csv')\n",
    "product_classes = pd.read_csv('./raw_data/product_class.csv')\n",
    "promotion = pd.read_csv('./raw_data/promotion.csv')\n",
    "transactions = pd.read_csv('./raw_data/transactions.csv')"
   ]
  },
  {
   "cell_type": "markdown",
   "metadata": {},
   "source": [
    "## __Data Wrangling__ <br>\n",
    "## --Product--:"
   ]
  },
  {
   "cell_type": "code",
   "execution_count": 110,
   "metadata": {},
   "outputs": [
    {
     "name": "stdout",
     "output_type": "stream",
     "text": [
      "Missing Values in Product data:  0\n",
      "Shape of product data:  (1560, 15)\n"
     ]
    },
    {
     "data": {
      "text/html": [
       "<div>\n",
       "<style scoped>\n",
       "    .dataframe tbody tr th:only-of-type {\n",
       "        vertical-align: middle;\n",
       "    }\n",
       "\n",
       "    .dataframe tbody tr th {\n",
       "        vertical-align: top;\n",
       "    }\n",
       "\n",
       "    .dataframe thead th {\n",
       "        text-align: right;\n",
       "    }\n",
       "</style>\n",
       "<table border=\"1\" class=\"dataframe\">\n",
       "  <thead>\n",
       "    <tr style=\"text-align: right;\">\n",
       "      <th></th>\n",
       "      <th>product_class_id</th>\n",
       "      <th>product_id</th>\n",
       "      <th>brand_name</th>\n",
       "      <th>product_name</th>\n",
       "      <th>SKU</th>\n",
       "      <th>SRP</th>\n",
       "      <th>gross_weight</th>\n",
       "      <th>net_weight</th>\n",
       "      <th>recyclable_package</th>\n",
       "      <th>low_fat</th>\n",
       "      <th>units_per_case</th>\n",
       "      <th>cases_per_pallet</th>\n",
       "      <th>shelf_width</th>\n",
       "      <th>shelf_height</th>\n",
       "      <th>shelf_depth</th>\n",
       "    </tr>\n",
       "  </thead>\n",
       "  <tbody>\n",
       "    <tr>\n",
       "      <th>0</th>\n",
       "      <td>30</td>\n",
       "      <td>1</td>\n",
       "      <td>'Washington'</td>\n",
       "      <td>'Washington Berry Juice'</td>\n",
       "      <td>90748583674</td>\n",
       "      <td>'2.8500'</td>\n",
       "      <td>8.39</td>\n",
       "      <td>6.39</td>\n",
       "      <td>0</td>\n",
       "      <td>0</td>\n",
       "      <td>30</td>\n",
       "      <td>14</td>\n",
       "      <td>16.9</td>\n",
       "      <td>12.60</td>\n",
       "      <td>7.40</td>\n",
       "    </tr>\n",
       "    <tr>\n",
       "      <th>1</th>\n",
       "      <td>52</td>\n",
       "      <td>2</td>\n",
       "      <td>'Washington'</td>\n",
       "      <td>'Washington Mango Drink'</td>\n",
       "      <td>96516502499</td>\n",
       "      <td>'0.7400'</td>\n",
       "      <td>7.42</td>\n",
       "      <td>4.42</td>\n",
       "      <td>0</td>\n",
       "      <td>1</td>\n",
       "      <td>18</td>\n",
       "      <td>8</td>\n",
       "      <td>13.4</td>\n",
       "      <td>3.71</td>\n",
       "      <td>22.60</td>\n",
       "    </tr>\n",
       "    <tr>\n",
       "      <th>2</th>\n",
       "      <td>52</td>\n",
       "      <td>3</td>\n",
       "      <td>'Washington'</td>\n",
       "      <td>'Washington Strawberry Drink'</td>\n",
       "      <td>58427771925</td>\n",
       "      <td>'0.8300'</td>\n",
       "      <td>13.10</td>\n",
       "      <td>11.10</td>\n",
       "      <td>1</td>\n",
       "      <td>1</td>\n",
       "      <td>17</td>\n",
       "      <td>13</td>\n",
       "      <td>14.4</td>\n",
       "      <td>11.00</td>\n",
       "      <td>7.77</td>\n",
       "    </tr>\n",
       "    <tr>\n",
       "      <th>3</th>\n",
       "      <td>19</td>\n",
       "      <td>4</td>\n",
       "      <td>'Washington'</td>\n",
       "      <td>'Washington Cream Soda'</td>\n",
       "      <td>64412155747</td>\n",
       "      <td>'3.6400'</td>\n",
       "      <td>10.60</td>\n",
       "      <td>9.60</td>\n",
       "      <td>1</td>\n",
       "      <td>0</td>\n",
       "      <td>26</td>\n",
       "      <td>10</td>\n",
       "      <td>22.9</td>\n",
       "      <td>18.90</td>\n",
       "      <td>7.93</td>\n",
       "    </tr>\n",
       "    <tr>\n",
       "      <th>4</th>\n",
       "      <td>19</td>\n",
       "      <td>5</td>\n",
       "      <td>'Washington'</td>\n",
       "      <td>'Washington Diet Soda'</td>\n",
       "      <td>85561191439</td>\n",
       "      <td>'2.1900'</td>\n",
       "      <td>6.66</td>\n",
       "      <td>4.65</td>\n",
       "      <td>1</td>\n",
       "      <td>0</td>\n",
       "      <td>7</td>\n",
       "      <td>10</td>\n",
       "      <td>20.7</td>\n",
       "      <td>21.90</td>\n",
       "      <td>19.20</td>\n",
       "    </tr>\n",
       "  </tbody>\n",
       "</table>\n",
       "</div>"
      ],
      "text/plain": [
       "   product_class_id   product_id    brand_name                   product_name  \\\n",
       "0                30            1  'Washington'       'Washington Berry Juice'   \n",
       "1                52            2  'Washington'       'Washington Mango Drink'   \n",
       "2                52            3  'Washington'  'Washington Strawberry Drink'   \n",
       "3                19            4  'Washington'        'Washington Cream Soda'   \n",
       "4                19            5  'Washington'         'Washington Diet Soda'   \n",
       "\n",
       "           SKU       SRP   gross_weight   net_weight   recyclable_package  \\\n",
       "0  90748583674  '2.8500'           8.39         6.39                    0   \n",
       "1  96516502499  '0.7400'           7.42         4.42                    0   \n",
       "2  58427771925  '0.8300'          13.10        11.10                    1   \n",
       "3  64412155747  '3.6400'          10.60         9.60                    1   \n",
       "4  85561191439  '2.1900'           6.66         4.65                    1   \n",
       "\n",
       "    low_fat   units_per_case   cases_per_pallet   shelf_width   shelf_height  \\\n",
       "0         0               30                 14          16.9          12.60   \n",
       "1         1               18                  8          13.4           3.71   \n",
       "2         1               17                 13          14.4          11.00   \n",
       "3         0               26                 10          22.9          18.90   \n",
       "4         0                7                 10          20.7          21.90   \n",
       "\n",
       "    shelf_depth  \n",
       "0          7.40  \n",
       "1         22.60  \n",
       "2          7.77  \n",
       "3          7.93  \n",
       "4         19.20  "
      ]
     },
     "execution_count": 110,
     "metadata": {},
     "output_type": "execute_result"
    }
   ],
   "source": [
    "print(\"Missing Values in Product data: \",product.isnull().any().sum()) #checking for missing values\n",
    "print(\"Shape of product data: \", product.shape) #checking number of rows and columns\n",
    "product.head(5) #checking first few rows and columns of product data"
   ]
  },
  {
   "cell_type": "code",
   "execution_count": 111,
   "metadata": {},
   "outputs": [
    {
     "data": {
      "text/plain": [
       "Index(['product_class_id', ' product_id', ' brand_name', ' product_name',\n",
       "       ' SKU', ' SRP', ' gross_weight', ' net_weight', ' recyclable_package',\n",
       "       ' low_fat', ' units_per_case', ' cases_per_pallet', ' shelf_width',\n",
       "       ' shelf_height', ' shelf_depth'],\n",
       "      dtype='object')"
      ]
     },
     "execution_count": 111,
     "metadata": {},
     "output_type": "execute_result"
    }
   ],
   "source": [
    "product.columns # Prints name of the columns."
   ]
  },
  {
   "cell_type": "markdown",
   "metadata": {},
   "source": [
    "Some of the column names have white space at the beginning."
   ]
  },
  {
   "cell_type": "code",
   "execution_count": 112,
   "metadata": {},
   "outputs": [],
   "source": [
    "product.columns = product.columns.str.lstrip() #lstrip() removes white space at the beginning of the string."
   ]
  },
  {
   "cell_type": "code",
   "execution_count": 113,
   "metadata": {},
   "outputs": [
    {
     "data": {
      "text/plain": [
       "Index(['product_class_id', 'product_id', 'brand_name', 'product_name', 'SKU',\n",
       "       'SRP', 'gross_weight', 'net_weight', 'recyclable_package', 'low_fat',\n",
       "       'units_per_case', 'cases_per_pallet', 'shelf_width', 'shelf_height',\n",
       "       'shelf_depth'],\n",
       "      dtype='object')"
      ]
     },
     "execution_count": 113,
     "metadata": {},
     "output_type": "execute_result"
    }
   ],
   "source": [
    "product.columns"
   ]
  },
  {
   "cell_type": "code",
   "execution_count": 114,
   "metadata": {},
   "outputs": [
    {
     "name": "stdout",
     "output_type": "stream",
     "text": [
      "<class 'pandas.core.frame.DataFrame'>\n",
      "RangeIndex: 1560 entries, 0 to 1559\n",
      "Data columns (total 15 columns):\n",
      "product_class_id      1560 non-null int64\n",
      "product_id            1560 non-null int64\n",
      "brand_name            1560 non-null object\n",
      "product_name          1560 non-null object\n",
      "SKU                   1560 non-null int64\n",
      "SRP                   1560 non-null object\n",
      "gross_weight          1560 non-null float64\n",
      "net_weight            1560 non-null float64\n",
      "recyclable_package    1560 non-null int64\n",
      "low_fat               1560 non-null int64\n",
      "units_per_case        1560 non-null int64\n",
      "cases_per_pallet      1560 non-null int64\n",
      "shelf_width           1560 non-null float64\n",
      "shelf_height          1560 non-null float64\n",
      "shelf_depth           1560 non-null float64\n",
      "dtypes: float64(5), int64(7), object(3)\n",
      "memory usage: 182.9+ KB\n"
     ]
    }
   ],
   "source": [
    "product.info()"
   ]
  },
  {
   "cell_type": "markdown",
   "metadata": {},
   "source": [
    "We see that all 15 columns have 1560 values, None of them have NaN values and all seems to be in the correct data type format. Except SRP which is type Object and It should be type int."
   ]
  },
  {
   "cell_type": "code",
   "execution_count": 115,
   "metadata": {},
   "outputs": [
    {
     "data": {
      "text/html": [
       "<div>\n",
       "<style scoped>\n",
       "    .dataframe tbody tr th:only-of-type {\n",
       "        vertical-align: middle;\n",
       "    }\n",
       "\n",
       "    .dataframe tbody tr th {\n",
       "        vertical-align: top;\n",
       "    }\n",
       "\n",
       "    .dataframe thead th {\n",
       "        text-align: right;\n",
       "    }\n",
       "</style>\n",
       "<table border=\"1\" class=\"dataframe\">\n",
       "  <thead>\n",
       "    <tr style=\"text-align: right;\">\n",
       "      <th></th>\n",
       "      <th>product_class_id</th>\n",
       "      <th>product_id</th>\n",
       "      <th>SKU</th>\n",
       "      <th>SRP</th>\n",
       "      <th>gross_weight</th>\n",
       "      <th>net_weight</th>\n",
       "      <th>recyclable_package</th>\n",
       "      <th>low_fat</th>\n",
       "      <th>units_per_case</th>\n",
       "      <th>cases_per_pallet</th>\n",
       "      <th>shelf_width</th>\n",
       "      <th>shelf_height</th>\n",
       "      <th>shelf_depth</th>\n",
       "    </tr>\n",
       "  </thead>\n",
       "  <tbody>\n",
       "    <tr>\n",
       "      <th>count</th>\n",
       "      <td>1560.000000</td>\n",
       "      <td>1560.000000</td>\n",
       "      <td>1.560000e+03</td>\n",
       "      <td>1560.000000</td>\n",
       "      <td>1560.000000</td>\n",
       "      <td>1560.000000</td>\n",
       "      <td>1560.000000</td>\n",
       "      <td>1560.000000</td>\n",
       "      <td>1560.000000</td>\n",
       "      <td>1560.000000</td>\n",
       "      <td>1560.000000</td>\n",
       "      <td>1560.000000</td>\n",
       "      <td>1560.000000</td>\n",
       "    </tr>\n",
       "    <tr>\n",
       "      <th>mean</th>\n",
       "      <td>54.403205</td>\n",
       "      <td>780.500000</td>\n",
       "      <td>5.562930e+10</td>\n",
       "      <td>2.117282</td>\n",
       "      <td>13.804821</td>\n",
       "      <td>11.791308</td>\n",
       "      <td>0.559615</td>\n",
       "      <td>0.353846</td>\n",
       "      <td>18.908333</td>\n",
       "      <td>9.475641</td>\n",
       "      <td>12.900692</td>\n",
       "      <td>12.915103</td>\n",
       "      <td>12.933750</td>\n",
       "    </tr>\n",
       "    <tr>\n",
       "      <th>std</th>\n",
       "      <td>30.872364</td>\n",
       "      <td>450.477524</td>\n",
       "      <td>2.580380e+10</td>\n",
       "      <td>0.932779</td>\n",
       "      <td>4.631014</td>\n",
       "      <td>4.693747</td>\n",
       "      <td>0.496592</td>\n",
       "      <td>0.478315</td>\n",
       "      <td>10.254237</td>\n",
       "      <td>2.638963</td>\n",
       "      <td>5.763655</td>\n",
       "      <td>5.844180</td>\n",
       "      <td>5.603036</td>\n",
       "    </tr>\n",
       "    <tr>\n",
       "      <th>min</th>\n",
       "      <td>1.000000</td>\n",
       "      <td>1.000000</td>\n",
       "      <td>1.003103e+10</td>\n",
       "      <td>0.500000</td>\n",
       "      <td>6.000000</td>\n",
       "      <td>3.050000</td>\n",
       "      <td>0.000000</td>\n",
       "      <td>0.000000</td>\n",
       "      <td>1.000000</td>\n",
       "      <td>5.000000</td>\n",
       "      <td>3.010000</td>\n",
       "      <td>3.000000</td>\n",
       "      <td>3.000000</td>\n",
       "    </tr>\n",
       "    <tr>\n",
       "      <th>25%</th>\n",
       "      <td>30.000000</td>\n",
       "      <td>390.750000</td>\n",
       "      <td>3.345056e+10</td>\n",
       "      <td>1.417500</td>\n",
       "      <td>9.657500</td>\n",
       "      <td>7.705000</td>\n",
       "      <td>0.000000</td>\n",
       "      <td>0.000000</td>\n",
       "      <td>10.000000</td>\n",
       "      <td>7.000000</td>\n",
       "      <td>7.860000</td>\n",
       "      <td>7.867500</td>\n",
       "      <td>8.300000</td>\n",
       "    </tr>\n",
       "    <tr>\n",
       "      <th>50%</th>\n",
       "      <td>57.500000</td>\n",
       "      <td>780.500000</td>\n",
       "      <td>5.629308e+10</td>\n",
       "      <td>2.130000</td>\n",
       "      <td>13.600000</td>\n",
       "      <td>11.600000</td>\n",
       "      <td>1.000000</td>\n",
       "      <td>0.000000</td>\n",
       "      <td>19.000000</td>\n",
       "      <td>9.000000</td>\n",
       "      <td>12.900000</td>\n",
       "      <td>12.700000</td>\n",
       "      <td>12.850000</td>\n",
       "    </tr>\n",
       "    <tr>\n",
       "      <th>75%</th>\n",
       "      <td>79.000000</td>\n",
       "      <td>1170.250000</td>\n",
       "      <td>7.798317e+10</td>\n",
       "      <td>2.792500</td>\n",
       "      <td>17.725000</td>\n",
       "      <td>16.000000</td>\n",
       "      <td>1.000000</td>\n",
       "      <td>1.000000</td>\n",
       "      <td>28.000000</td>\n",
       "      <td>12.000000</td>\n",
       "      <td>17.625000</td>\n",
       "      <td>18.200000</td>\n",
       "      <td>17.600000</td>\n",
       "    </tr>\n",
       "    <tr>\n",
       "      <th>max</th>\n",
       "      <td>110.000000</td>\n",
       "      <td>1560.000000</td>\n",
       "      <td>9.998368e+10</td>\n",
       "      <td>3.980000</td>\n",
       "      <td>21.900000</td>\n",
       "      <td>20.800000</td>\n",
       "      <td>1.000000</td>\n",
       "      <td>1.000000</td>\n",
       "      <td>36.000000</td>\n",
       "      <td>14.000000</td>\n",
       "      <td>22.900000</td>\n",
       "      <td>22.900000</td>\n",
       "      <td>22.900000</td>\n",
       "    </tr>\n",
       "  </tbody>\n",
       "</table>\n",
       "</div>"
      ],
      "text/plain": [
       "       product_class_id   product_id           SKU          SRP  gross_weight  \\\n",
       "count       1560.000000  1560.000000  1.560000e+03  1560.000000   1560.000000   \n",
       "mean          54.403205   780.500000  5.562930e+10     2.117282     13.804821   \n",
       "std           30.872364   450.477524  2.580380e+10     0.932779      4.631014   \n",
       "min            1.000000     1.000000  1.003103e+10     0.500000      6.000000   \n",
       "25%           30.000000   390.750000  3.345056e+10     1.417500      9.657500   \n",
       "50%           57.500000   780.500000  5.629308e+10     2.130000     13.600000   \n",
       "75%           79.000000  1170.250000  7.798317e+10     2.792500     17.725000   \n",
       "max          110.000000  1560.000000  9.998368e+10     3.980000     21.900000   \n",
       "\n",
       "        net_weight  recyclable_package      low_fat  units_per_case  \\\n",
       "count  1560.000000         1560.000000  1560.000000     1560.000000   \n",
       "mean     11.791308            0.559615     0.353846       18.908333   \n",
       "std       4.693747            0.496592     0.478315       10.254237   \n",
       "min       3.050000            0.000000     0.000000        1.000000   \n",
       "25%       7.705000            0.000000     0.000000       10.000000   \n",
       "50%      11.600000            1.000000     0.000000       19.000000   \n",
       "75%      16.000000            1.000000     1.000000       28.000000   \n",
       "max      20.800000            1.000000     1.000000       36.000000   \n",
       "\n",
       "       cases_per_pallet  shelf_width  shelf_height  shelf_depth  \n",
       "count       1560.000000  1560.000000   1560.000000  1560.000000  \n",
       "mean           9.475641    12.900692     12.915103    12.933750  \n",
       "std            2.638963     5.763655      5.844180     5.603036  \n",
       "min            5.000000     3.010000      3.000000     3.000000  \n",
       "25%            7.000000     7.860000      7.867500     8.300000  \n",
       "50%            9.000000    12.900000     12.700000    12.850000  \n",
       "75%           12.000000    17.625000     18.200000    17.600000  \n",
       "max           14.000000    22.900000     22.900000    22.900000  "
      ]
     },
     "execution_count": 115,
     "metadata": {},
     "output_type": "execute_result"
    }
   ],
   "source": [
    "#product.SRP = product.SRP.astype(float)\n",
    "'''Gives us error as integer are inside single quotations marks.\n",
    " We will have to remove single quotes, and then convert this series to float type. We will use anonymous function\n",
    " lambda to remove single quotes, and we will apply it the entire series.\n",
    "'''\n",
    "product['SRP'] = product.SRP.apply(lambda x : x.replace('\\'' , \"\")) # Removes single quotes\n",
    "product.SRP = product.SRP.astype(float) # Converts product['SRP'] to float dtype\n",
    "product.describe()"
   ]
  },
  {
   "cell_type": "markdown",
   "metadata": {},
   "source": [
    "Statistical Description of Numerical columns of product data, No irregular values here looks good for now. Let's move on to the other data files."
   ]
  },
  {
   "cell_type": "markdown",
   "metadata": {},
   "source": [
    "## __Product classes__"
   ]
  },
  {
   "cell_type": "code",
   "execution_count": 116,
   "metadata": {},
   "outputs": [
    {
     "name": "stdout",
     "output_type": "stream",
     "text": [
      "Missing Values in Product data:  0\n",
      "Shape of product data:  (110, 5)\n"
     ]
    },
    {
     "data": {
      "text/html": [
       "<div>\n",
       "<style scoped>\n",
       "    .dataframe tbody tr th:only-of-type {\n",
       "        vertical-align: middle;\n",
       "    }\n",
       "\n",
       "    .dataframe tbody tr th {\n",
       "        vertical-align: top;\n",
       "    }\n",
       "\n",
       "    .dataframe thead th {\n",
       "        text-align: right;\n",
       "    }\n",
       "</style>\n",
       "<table border=\"1\" class=\"dataframe\">\n",
       "  <thead>\n",
       "    <tr style=\"text-align: right;\">\n",
       "      <th></th>\n",
       "      <th>product_class_id</th>\n",
       "      <th>product_subcategory</th>\n",
       "      <th>product_category</th>\n",
       "      <th>product_department</th>\n",
       "      <th>product_family</th>\n",
       "    </tr>\n",
       "  </thead>\n",
       "  <tbody>\n",
       "    <tr>\n",
       "      <th>0</th>\n",
       "      <td>1</td>\n",
       "      <td>'Nuts'</td>\n",
       "      <td>'Specialty'</td>\n",
       "      <td>'Produce'</td>\n",
       "      <td>'Food'</td>\n",
       "    </tr>\n",
       "    <tr>\n",
       "      <th>1</th>\n",
       "      <td>2</td>\n",
       "      <td>'Shellfish'</td>\n",
       "      <td>'Seafood'</td>\n",
       "      <td>'Seafood'</td>\n",
       "      <td>'Food'</td>\n",
       "    </tr>\n",
       "    <tr>\n",
       "      <th>2</th>\n",
       "      <td>3</td>\n",
       "      <td>'Canned Fruit'</td>\n",
       "      <td>'Fruit'</td>\n",
       "      <td>'Canned Products'</td>\n",
       "      <td>'Food'</td>\n",
       "    </tr>\n",
       "  </tbody>\n",
       "</table>\n",
       "</div>"
      ],
      "text/plain": [
       "   product_class_id  product_subcategory  product_category  \\\n",
       "0                 1               'Nuts'       'Specialty'   \n",
       "1                 2          'Shellfish'         'Seafood'   \n",
       "2                 3       'Canned Fruit'           'Fruit'   \n",
       "\n",
       "   product_department  product_family  \n",
       "0           'Produce'          'Food'  \n",
       "1           'Seafood'          'Food'  \n",
       "2   'Canned Products'          'Food'  "
      ]
     },
     "execution_count": 116,
     "metadata": {},
     "output_type": "execute_result"
    }
   ],
   "source": [
    "print(\"Missing Values in Product data: \",product_classes.isnull().any().sum()) #checking for missing values\n",
    "print(\"Shape of product data: \", product_classes.shape) #checking number of rows and columns\n",
    "product_classes.head(3) #checking first few rows and columns of product data"
   ]
  },
  {
   "cell_type": "code",
   "execution_count": 117,
   "metadata": {},
   "outputs": [
    {
     "data": {
      "text/plain": [
       "Index(['product_class_id', ' product_subcategory', ' product_category',\n",
       "       ' product_department', ' product_family'],\n",
       "      dtype='object')"
      ]
     },
     "execution_count": 117,
     "metadata": {},
     "output_type": "execute_result"
    }
   ],
   "source": [
    "product_classes.columns # Prints the name of the columns"
   ]
  },
  {
   "cell_type": "code",
   "execution_count": 118,
   "metadata": {},
   "outputs": [],
   "source": [
    "product_classes.columns = product_classes.columns.str.lstrip() #lstrip() removes white space at the beginning of the string."
   ]
  },
  {
   "cell_type": "code",
   "execution_count": 119,
   "metadata": {},
   "outputs": [
    {
     "data": {
      "text/plain": [
       "Index(['product_class_id', 'product_subcategory', 'product_category',\n",
       "       'product_department', 'product_family'],\n",
       "      dtype='object')"
      ]
     },
     "execution_count": 119,
     "metadata": {},
     "output_type": "execute_result"
    }
   ],
   "source": [
    "product_classes.columns"
   ]
  },
  {
   "cell_type": "markdown",
   "metadata": {},
   "source": [
    "White spaces in front of the names have be removed."
   ]
  },
  {
   "cell_type": "code",
   "execution_count": 120,
   "metadata": {},
   "outputs": [
    {
     "name": "stdout",
     "output_type": "stream",
     "text": [
      "<class 'pandas.core.frame.DataFrame'>\n",
      "RangeIndex: 110 entries, 0 to 109\n",
      "Data columns (total 5 columns):\n",
      "product_class_id       110 non-null int64\n",
      "product_subcategory    110 non-null object\n",
      "product_category       110 non-null object\n",
      "product_department     110 non-null object\n",
      "product_family         110 non-null object\n",
      "dtypes: int64(1), object(4)\n",
      "memory usage: 4.4+ KB\n"
     ]
    }
   ],
   "source": [
    "product_classes.info()"
   ]
  },
  {
   "cell_type": "markdown",
   "metadata": {},
   "source": [
    "Looks good 4 columns are string type and 1 int64. Product_classes data looks good for now."
   ]
  },
  {
   "cell_type": "markdown",
   "metadata": {},
   "source": [
    "## __Promotion__"
   ]
  },
  {
   "cell_type": "code",
   "execution_count": 121,
   "metadata": {},
   "outputs": [
    {
     "name": "stdout",
     "output_type": "stream",
     "text": [
      "Missing Values in Promotion dataset:  promotion_id              False\n",
      " promotion_district_id    False\n",
      " promotion_name           False\n",
      " media_type               False\n",
      " cost                     False\n",
      " start_date                True\n",
      " end_date                  True\n",
      "Unnamed: 7                 True\n",
      "Unnamed: 8                 True\n",
      "dtype: bool\n",
      "Shape of Promotion dataset:  (1864, 9)\n"
     ]
    },
    {
     "data": {
      "text/html": [
       "<div>\n",
       "<style scoped>\n",
       "    .dataframe tbody tr th:only-of-type {\n",
       "        vertical-align: middle;\n",
       "    }\n",
       "\n",
       "    .dataframe tbody tr th {\n",
       "        vertical-align: top;\n",
       "    }\n",
       "\n",
       "    .dataframe thead th {\n",
       "        text-align: right;\n",
       "    }\n",
       "</style>\n",
       "<table border=\"1\" class=\"dataframe\">\n",
       "  <thead>\n",
       "    <tr style=\"text-align: right;\">\n",
       "      <th></th>\n",
       "      <th>promotion_id</th>\n",
       "      <th>promotion_district_id</th>\n",
       "      <th>promotion_name</th>\n",
       "      <th>media_type</th>\n",
       "      <th>cost</th>\n",
       "      <th>start_date</th>\n",
       "      <th>end_date</th>\n",
       "      <th>Unnamed: 7</th>\n",
       "      <th>Unnamed: 8</th>\n",
       "    </tr>\n",
       "  </thead>\n",
       "  <tbody>\n",
       "    <tr>\n",
       "      <th>0</th>\n",
       "      <td>0</td>\n",
       "      <td>0</td>\n",
       "      <td>'No Promotion'</td>\n",
       "      <td>'No Media'</td>\n",
       "      <td>'0.0000'</td>\n",
       "      <td>NaN</td>\n",
       "      <td>NaN</td>\n",
       "      <td>NaN</td>\n",
       "      <td>NaN</td>\n",
       "    </tr>\n",
       "    <tr>\n",
       "      <th>1</th>\n",
       "      <td>1</td>\n",
       "      <td>110</td>\n",
       "      <td>'High Roller Savings'</td>\n",
       "      <td>'Product Attachment'</td>\n",
       "      <td>'14435.0000'</td>\n",
       "      <td>'1996-01-03 00:00:00'</td>\n",
       "      <td>'1996-01-06 00:00:00'</td>\n",
       "      <td>NaN</td>\n",
       "      <td>NaN</td>\n",
       "    </tr>\n",
       "    <tr>\n",
       "      <th>2</th>\n",
       "      <td>2</td>\n",
       "      <td>110</td>\n",
       "      <td>'Green Light Special'</td>\n",
       "      <td>'Product Attachment'</td>\n",
       "      <td>'8907.0000'</td>\n",
       "      <td>'1996-01-18 00:00:00'</td>\n",
       "      <td>'1996-01-20 00:00:00'</td>\n",
       "      <td>NaN</td>\n",
       "      <td>NaN</td>\n",
       "    </tr>\n",
       "  </tbody>\n",
       "</table>\n",
       "</div>"
      ],
      "text/plain": [
       "   promotion_id   promotion_district_id         promotion_name  \\\n",
       "0             0                       0         'No Promotion'   \n",
       "1             1                     110  'High Roller Savings'   \n",
       "2             2                     110  'Green Light Special'   \n",
       "\n",
       "             media_type          cost             start_date  \\\n",
       "0            'No Media'      '0.0000'                    NaN   \n",
       "1  'Product Attachment'  '14435.0000'  '1996-01-03 00:00:00'   \n",
       "2  'Product Attachment'   '8907.0000'  '1996-01-18 00:00:00'   \n",
       "\n",
       "                end_date Unnamed: 7 Unnamed: 8  \n",
       "0                    NaN        NaN        NaN  \n",
       "1  '1996-01-06 00:00:00'        NaN        NaN  \n",
       "2  '1996-01-20 00:00:00'        NaN        NaN  "
      ]
     },
     "execution_count": 121,
     "metadata": {},
     "output_type": "execute_result"
    }
   ],
   "source": [
    "print(\"Missing Values in Promotion dataset: \", promotion.isnull().any()) #checking for missing values\n",
    "print(\"Shape of Promotion dataset: \",promotion.shape) #checking number of rows and columns\n",
    "promotion.head(3) #checking first few rows and columns of product data"
   ]
  },
  {
   "cell_type": "markdown",
   "metadata": {},
   "source": [
    "Promotion dataset has a lot of missing values, columns['start_date', 'end_date', 'Unnamed: 7', 'Unnamed: 8'], have missing values, Let's check further and see we do we have these missing values, and how we should impute these."
   ]
  },
  {
   "cell_type": "code",
   "execution_count": 122,
   "metadata": {},
   "outputs": [
    {
     "data": {
      "text/plain": [
       "Index(['promotion_id', 'promotion_district_id', 'promotion_name', 'media_type',\n",
       "       'cost', 'start_date', 'end_date', 'Unnamed: 7', 'Unnamed: 8'],\n",
       "      dtype='object')"
      ]
     },
     "execution_count": 122,
     "metadata": {},
     "output_type": "execute_result"
    }
   ],
   "source": [
    "promotion.columns = promotion.columns.str.lstrip() #Removes white spaces in front of the names\n",
    "promotion.columns"
   ]
  },
  {
   "cell_type": "code",
   "execution_count": 123,
   "metadata": {
    "scrolled": false
   },
   "outputs": [
    {
     "data": {
      "text/html": [
       "<div>\n",
       "<style scoped>\n",
       "    .dataframe tbody tr th:only-of-type {\n",
       "        vertical-align: middle;\n",
       "    }\n",
       "\n",
       "    .dataframe tbody tr th {\n",
       "        vertical-align: top;\n",
       "    }\n",
       "\n",
       "    .dataframe thead th {\n",
       "        text-align: right;\n",
       "    }\n",
       "</style>\n",
       "<table border=\"1\" class=\"dataframe\">\n",
       "  <thead>\n",
       "    <tr style=\"text-align: right;\">\n",
       "      <th></th>\n",
       "      <th>promotion_id</th>\n",
       "      <th>promotion_district_id</th>\n",
       "      <th>promotion_name</th>\n",
       "      <th>media_type</th>\n",
       "      <th>cost</th>\n",
       "      <th>start_date</th>\n",
       "      <th>end_date</th>\n",
       "      <th>Unnamed: 7</th>\n",
       "      <th>Unnamed: 8</th>\n",
       "    </tr>\n",
       "  </thead>\n",
       "  <tbody>\n",
       "    <tr>\n",
       "      <th>0</th>\n",
       "      <td>0</td>\n",
       "      <td>0</td>\n",
       "      <td>'No Promotion'</td>\n",
       "      <td>'No Media'</td>\n",
       "      <td>'0.0000'</td>\n",
       "      <td>NaN</td>\n",
       "      <td>NaN</td>\n",
       "      <td>NaN</td>\n",
       "      <td>NaN</td>\n",
       "    </tr>\n",
       "    <tr>\n",
       "      <th>1</th>\n",
       "      <td>1</td>\n",
       "      <td>110</td>\n",
       "      <td>'High Roller Savings'</td>\n",
       "      <td>'Product Attachment'</td>\n",
       "      <td>'14435.0000'</td>\n",
       "      <td>'1996-01-03 00:00:00'</td>\n",
       "      <td>'1996-01-06 00:00:00'</td>\n",
       "      <td>NaN</td>\n",
       "      <td>NaN</td>\n",
       "    </tr>\n",
       "    <tr>\n",
       "      <th>2</th>\n",
       "      <td>2</td>\n",
       "      <td>110</td>\n",
       "      <td>'Green Light Special'</td>\n",
       "      <td>'Product Attachment'</td>\n",
       "      <td>'8907.0000'</td>\n",
       "      <td>'1996-01-18 00:00:00'</td>\n",
       "      <td>'1996-01-20 00:00:00'</td>\n",
       "      <td>NaN</td>\n",
       "      <td>NaN</td>\n",
       "    </tr>\n",
       "    <tr>\n",
       "      <th>3</th>\n",
       "      <td>3</td>\n",
       "      <td>110</td>\n",
       "      <td>'Wallet Savers'</td>\n",
       "      <td>'Radio'</td>\n",
       "      <td>'12512.0000'</td>\n",
       "      <td>'1996-02-02 00:00:00'</td>\n",
       "      <td>'1996-02-05 00:00:00'</td>\n",
       "      <td>NaN</td>\n",
       "      <td>NaN</td>\n",
       "    </tr>\n",
       "    <tr>\n",
       "      <th>4</th>\n",
       "      <td>4</td>\n",
       "      <td>110</td>\n",
       "      <td>'Weekend Markdown'</td>\n",
       "      <td>'In-Store Coupon'</td>\n",
       "      <td>'11256.0000'</td>\n",
       "      <td>'1996-02-13 00:00:00'</td>\n",
       "      <td>'1996-02-15 00:00:00'</td>\n",
       "      <td>NaN</td>\n",
       "      <td>NaN</td>\n",
       "    </tr>\n",
       "    <tr>\n",
       "      <th>5</th>\n",
       "      <td>5</td>\n",
       "      <td>110</td>\n",
       "      <td>'Bag Stuffers'</td>\n",
       "      <td>Sunday Paper Radio'</td>\n",
       "      <td></td>\n",
       "      <td>12275.0000'</td>\n",
       "      <td>'1996-02-28 00:00:00'</td>\n",
       "      <td>'1996-03-01 00:00:00'</td>\n",
       "      <td>NaN</td>\n",
       "    </tr>\n",
       "    <tr>\n",
       "      <th>6</th>\n",
       "      <td>6</td>\n",
       "      <td>110</td>\n",
       "      <td>'Save-It Sale'</td>\n",
       "      <td>'Daily Paper'</td>\n",
       "      <td>'9472.0000'</td>\n",
       "      <td>'1996-03-14 00:00:00'</td>\n",
       "      <td>'1996-03-16 00:00:00'</td>\n",
       "      <td>NaN</td>\n",
       "      <td>NaN</td>\n",
       "    </tr>\n",
       "    <tr>\n",
       "      <th>7</th>\n",
       "      <td>7</td>\n",
       "      <td>110</td>\n",
       "      <td>'Fantastic Discounts'</td>\n",
       "      <td>'Sunday Paper</td>\n",
       "      <td>Radio</td>\n",
       "      <td>TV'</td>\n",
       "      <td>'14278.0000'</td>\n",
       "      <td>'1996-03-29 00:00:00'</td>\n",
       "      <td>'1996-04-02 00:00:00'</td>\n",
       "    </tr>\n",
       "    <tr>\n",
       "      <th>8</th>\n",
       "      <td>8</td>\n",
       "      <td>110</td>\n",
       "      <td>'Price Winners'</td>\n",
       "      <td>'Sunday Paper</td>\n",
       "      <td>Radio'</td>\n",
       "      <td>'14731.0000'</td>\n",
       "      <td>'1996-04-10 00:00:00'</td>\n",
       "      <td>'1996-04-13 00:00:00'</td>\n",
       "      <td>NaN</td>\n",
       "    </tr>\n",
       "    <tr>\n",
       "      <th>9</th>\n",
       "      <td>9</td>\n",
       "      <td>110</td>\n",
       "      <td>'Dimes Off'</td>\n",
       "      <td>'Daily Paper'</td>\n",
       "      <td>'14065.0000'</td>\n",
       "      <td>'1996-04-26 00:00:00'</td>\n",
       "      <td>'1996-04-29 00:00:00'</td>\n",
       "      <td>NaN</td>\n",
       "      <td>NaN</td>\n",
       "    </tr>\n",
       "  </tbody>\n",
       "</table>\n",
       "</div>"
      ],
      "text/plain": [
       "   promotion_id  promotion_district_id         promotion_name  \\\n",
       "0             0                      0         'No Promotion'   \n",
       "1             1                    110  'High Roller Savings'   \n",
       "2             2                    110  'Green Light Special'   \n",
       "3             3                    110        'Wallet Savers'   \n",
       "4             4                    110     'Weekend Markdown'   \n",
       "5             5                    110         'Bag Stuffers'   \n",
       "6             6                    110         'Save-It Sale'   \n",
       "7             7                    110  'Fantastic Discounts'   \n",
       "8             8                    110        'Price Winners'   \n",
       "9             9                    110            'Dimes Off'   \n",
       "\n",
       "             media_type          cost             start_date  \\\n",
       "0            'No Media'      '0.0000'                    NaN   \n",
       "1  'Product Attachment'  '14435.0000'  '1996-01-03 00:00:00'   \n",
       "2  'Product Attachment'   '8907.0000'  '1996-01-18 00:00:00'   \n",
       "3               'Radio'  '12512.0000'  '1996-02-02 00:00:00'   \n",
       "4     'In-Store Coupon'  '11256.0000'  '1996-02-13 00:00:00'   \n",
       "5   Sunday Paper Radio'                          12275.0000'   \n",
       "6         'Daily Paper'   '9472.0000'  '1996-03-14 00:00:00'   \n",
       "7         'Sunday Paper         Radio                    TV'   \n",
       "8         'Sunday Paper        Radio'           '14731.0000'   \n",
       "9         'Daily Paper'  '14065.0000'  '1996-04-26 00:00:00'   \n",
       "\n",
       "                end_date             Unnamed: 7             Unnamed: 8  \n",
       "0                    NaN                    NaN                    NaN  \n",
       "1  '1996-01-06 00:00:00'                    NaN                    NaN  \n",
       "2  '1996-01-20 00:00:00'                    NaN                    NaN  \n",
       "3  '1996-02-05 00:00:00'                    NaN                    NaN  \n",
       "4  '1996-02-15 00:00:00'                    NaN                    NaN  \n",
       "5  '1996-02-28 00:00:00'  '1996-03-01 00:00:00'                    NaN  \n",
       "6  '1996-03-16 00:00:00'                    NaN                    NaN  \n",
       "7           '14278.0000'  '1996-03-29 00:00:00'  '1996-04-02 00:00:00'  \n",
       "8  '1996-04-10 00:00:00'  '1996-04-13 00:00:00'                    NaN  \n",
       "9  '1996-04-29 00:00:00'                    NaN                    NaN  "
      ]
     },
     "execution_count": 123,
     "metadata": {},
     "output_type": "execute_result"
    }
   ],
   "source": [
    "promotion.head(10)"
   ]
  },
  {
   "cell_type": "markdown",
   "metadata": {},
   "source": [
    "- Looks like this files is not been read correctly, as some of the values in media_type column has been stretched to cost and start_date columns, which resulted data of start_date and end_date to be moved to generic columns (columns automatically created by pandas) Unnamed:7 and Unnamed:8 <br>\n",
    "- First row needs to be removed"
   ]
  },
  {
   "cell_type": "markdown",
   "metadata": {},
   "source": [
    "As this dataset is small, easier way to handle missing values, and to move data back to their respective columns, is to run a for loop that will check for values in Unnamed:7 and Unnamed:8 columns: <br>\n",
    "- If both columns contains values: Values will shift two columns to the left <br>\n",
    "- If column Unnamed: 7 contains values and Unnamed: 8 contains NaN:  Values will shift 1 column to the left"
   ]
  },
  {
   "cell_type": "code",
   "execution_count": 124,
   "metadata": {
    "scrolled": true
   },
   "outputs": [],
   "source": [
    "'''For loop that runs through each row of the dataset:\n",
    "first condition checks for data in both columns and second if condition checks for data present only in Unnamed:7\n",
    "column'''\n",
    "\n",
    "for i in range(len(promotion)): \n",
    "    if (promotion.iloc[i]['Unnamed: 7'] is not np.nan) and (promotion.iloc[i]['Unnamed: 8'] is not np.nan):\n",
    "        promotion.at[i,'media_type']  = str(promotion.iloc[i]['media_type']) + str(promotion.iloc[i]['cost']) + str(promotion.iloc[i]['start_date'])\n",
    "        promotion.at[i, 'cost']       = str(promotion.iloc[i]['end_date'])\n",
    "        promotion.at[i, 'start_date'] = promotion.iloc[i]['Unnamed: 7']\n",
    "        promotion.at[i, 'end_date']   = promotion.iloc[i]['Unnamed: 8']\n",
    "    \n",
    "      \n",
    "    elif (promotion.iloc[i]['Unnamed: 7'] is not np.nan) and (promotion.iloc[i]['Unnamed: 8'] is np.nan):\n",
    "        promotion.at[i, 'media_type'] = str(promotion.iloc[i]['media_type']) + str(promotion.iloc[i]['cost'])\n",
    "        promotion.at[i, 'cost']       = promotion.iloc[i]['start_date']\n",
    "        promotion.at[i, 'start_date'] = promotion.iloc[i]['end_date']\n",
    "        promotion.at[i, 'end_date']   = promotion.iloc[i]['Unnamed: 7']\n",
    "      \n"
   ]
  },
  {
   "cell_type": "code",
   "execution_count": 125,
   "metadata": {},
   "outputs": [],
   "source": [
    "promotion.drop(['Unnamed: 7', 'Unnamed: 8'], axis = 1, inplace =True) #Removes Last two columns"
   ]
  },
  {
   "cell_type": "code",
   "execution_count": 126,
   "metadata": {},
   "outputs": [
    {
     "data": {
      "text/html": [
       "<div>\n",
       "<style scoped>\n",
       "    .dataframe tbody tr th:only-of-type {\n",
       "        vertical-align: middle;\n",
       "    }\n",
       "\n",
       "    .dataframe tbody tr th {\n",
       "        vertical-align: top;\n",
       "    }\n",
       "\n",
       "    .dataframe thead th {\n",
       "        text-align: right;\n",
       "    }\n",
       "</style>\n",
       "<table border=\"1\" class=\"dataframe\">\n",
       "  <thead>\n",
       "    <tr style=\"text-align: right;\">\n",
       "      <th></th>\n",
       "      <th>promotion_id</th>\n",
       "      <th>promotion_district_id</th>\n",
       "      <th>promotion_name</th>\n",
       "      <th>media_type</th>\n",
       "      <th>cost</th>\n",
       "      <th>start_date</th>\n",
       "      <th>end_date</th>\n",
       "    </tr>\n",
       "  </thead>\n",
       "  <tbody>\n",
       "    <tr>\n",
       "      <th>0</th>\n",
       "      <td>0</td>\n",
       "      <td>0</td>\n",
       "      <td>'No Promotion'</td>\n",
       "      <td>'No Media'</td>\n",
       "      <td>'0.0000'</td>\n",
       "      <td>NaN</td>\n",
       "      <td>NaN</td>\n",
       "    </tr>\n",
       "    <tr>\n",
       "      <th>1</th>\n",
       "      <td>1</td>\n",
       "      <td>110</td>\n",
       "      <td>'High Roller Savings'</td>\n",
       "      <td>'Product Attachment'</td>\n",
       "      <td>'14435.0000'</td>\n",
       "      <td>'1996-01-03 00:00:00'</td>\n",
       "      <td>'1996-01-06 00:00:00'</td>\n",
       "    </tr>\n",
       "    <tr>\n",
       "      <th>2</th>\n",
       "      <td>2</td>\n",
       "      <td>110</td>\n",
       "      <td>'Green Light Special'</td>\n",
       "      <td>'Product Attachment'</td>\n",
       "      <td>'8907.0000'</td>\n",
       "      <td>'1996-01-18 00:00:00'</td>\n",
       "      <td>'1996-01-20 00:00:00'</td>\n",
       "    </tr>\n",
       "    <tr>\n",
       "      <th>3</th>\n",
       "      <td>3</td>\n",
       "      <td>110</td>\n",
       "      <td>'Wallet Savers'</td>\n",
       "      <td>'Radio'</td>\n",
       "      <td>'12512.0000'</td>\n",
       "      <td>'1996-02-02 00:00:00'</td>\n",
       "      <td>'1996-02-05 00:00:00'</td>\n",
       "    </tr>\n",
       "    <tr>\n",
       "      <th>4</th>\n",
       "      <td>4</td>\n",
       "      <td>110</td>\n",
       "      <td>'Weekend Markdown'</td>\n",
       "      <td>'In-Store Coupon'</td>\n",
       "      <td>'11256.0000'</td>\n",
       "      <td>'1996-02-13 00:00:00'</td>\n",
       "      <td>'1996-02-15 00:00:00'</td>\n",
       "    </tr>\n",
       "    <tr>\n",
       "      <th>5</th>\n",
       "      <td>5</td>\n",
       "      <td>110</td>\n",
       "      <td>'Bag Stuffers'</td>\n",
       "      <td>Sunday Paper Radio'</td>\n",
       "      <td>12275.0000'</td>\n",
       "      <td>'1996-02-28 00:00:00'</td>\n",
       "      <td>'1996-03-01 00:00:00'</td>\n",
       "    </tr>\n",
       "    <tr>\n",
       "      <th>6</th>\n",
       "      <td>6</td>\n",
       "      <td>110</td>\n",
       "      <td>'Save-It Sale'</td>\n",
       "      <td>'Daily Paper'</td>\n",
       "      <td>'9472.0000'</td>\n",
       "      <td>'1996-03-14 00:00:00'</td>\n",
       "      <td>'1996-03-16 00:00:00'</td>\n",
       "    </tr>\n",
       "    <tr>\n",
       "      <th>7</th>\n",
       "      <td>7</td>\n",
       "      <td>110</td>\n",
       "      <td>'Fantastic Discounts'</td>\n",
       "      <td>'Sunday Paper Radio TV'</td>\n",
       "      <td>'14278.0000'</td>\n",
       "      <td>'1996-03-29 00:00:00'</td>\n",
       "      <td>'1996-04-02 00:00:00'</td>\n",
       "    </tr>\n",
       "    <tr>\n",
       "      <th>8</th>\n",
       "      <td>8</td>\n",
       "      <td>110</td>\n",
       "      <td>'Price Winners'</td>\n",
       "      <td>'Sunday Paper Radio'</td>\n",
       "      <td>'14731.0000'</td>\n",
       "      <td>'1996-04-10 00:00:00'</td>\n",
       "      <td>'1996-04-13 00:00:00'</td>\n",
       "    </tr>\n",
       "    <tr>\n",
       "      <th>9</th>\n",
       "      <td>9</td>\n",
       "      <td>110</td>\n",
       "      <td>'Dimes Off'</td>\n",
       "      <td>'Daily Paper'</td>\n",
       "      <td>'14065.0000'</td>\n",
       "      <td>'1996-04-26 00:00:00'</td>\n",
       "      <td>'1996-04-29 00:00:00'</td>\n",
       "    </tr>\n",
       "  </tbody>\n",
       "</table>\n",
       "</div>"
      ],
      "text/plain": [
       "   promotion_id  promotion_district_id         promotion_name  \\\n",
       "0             0                      0         'No Promotion'   \n",
       "1             1                    110  'High Roller Savings'   \n",
       "2             2                    110  'Green Light Special'   \n",
       "3             3                    110        'Wallet Savers'   \n",
       "4             4                    110     'Weekend Markdown'   \n",
       "5             5                    110         'Bag Stuffers'   \n",
       "6             6                    110         'Save-It Sale'   \n",
       "7             7                    110  'Fantastic Discounts'   \n",
       "8             8                    110        'Price Winners'   \n",
       "9             9                    110            'Dimes Off'   \n",
       "\n",
       "                media_type          cost             start_date  \\\n",
       "0               'No Media'      '0.0000'                    NaN   \n",
       "1     'Product Attachment'  '14435.0000'  '1996-01-03 00:00:00'   \n",
       "2     'Product Attachment'   '8907.0000'  '1996-01-18 00:00:00'   \n",
       "3                  'Radio'  '12512.0000'  '1996-02-02 00:00:00'   \n",
       "4        'In-Store Coupon'  '11256.0000'  '1996-02-13 00:00:00'   \n",
       "5     Sunday Paper Radio'    12275.0000'  '1996-02-28 00:00:00'   \n",
       "6            'Daily Paper'   '9472.0000'  '1996-03-14 00:00:00'   \n",
       "7  'Sunday Paper Radio TV'  '14278.0000'  '1996-03-29 00:00:00'   \n",
       "8     'Sunday Paper Radio'  '14731.0000'  '1996-04-10 00:00:00'   \n",
       "9            'Daily Paper'  '14065.0000'  '1996-04-26 00:00:00'   \n",
       "\n",
       "                end_date  \n",
       "0                    NaN  \n",
       "1  '1996-01-06 00:00:00'  \n",
       "2  '1996-01-20 00:00:00'  \n",
       "3  '1996-02-05 00:00:00'  \n",
       "4  '1996-02-15 00:00:00'  \n",
       "5  '1996-03-01 00:00:00'  \n",
       "6  '1996-03-16 00:00:00'  \n",
       "7  '1996-04-02 00:00:00'  \n",
       "8  '1996-04-13 00:00:00'  \n",
       "9  '1996-04-29 00:00:00'  "
      ]
     },
     "execution_count": 126,
     "metadata": {},
     "output_type": "execute_result"
    }
   ],
   "source": [
    "promotion.head(10) #Prints first 10 rows of the dataset"
   ]
  },
  {
   "cell_type": "code",
   "execution_count": 127,
   "metadata": {},
   "outputs": [
    {
     "name": "stdout",
     "output_type": "stream",
     "text": [
      "(1864, 7)\n",
      "(1863, 7)\n"
     ]
    },
    {
     "data": {
      "text/html": [
       "<div>\n",
       "<style scoped>\n",
       "    .dataframe tbody tr th:only-of-type {\n",
       "        vertical-align: middle;\n",
       "    }\n",
       "\n",
       "    .dataframe tbody tr th {\n",
       "        vertical-align: top;\n",
       "    }\n",
       "\n",
       "    .dataframe thead th {\n",
       "        text-align: right;\n",
       "    }\n",
       "</style>\n",
       "<table border=\"1\" class=\"dataframe\">\n",
       "  <thead>\n",
       "    <tr style=\"text-align: right;\">\n",
       "      <th></th>\n",
       "      <th>promotion_id</th>\n",
       "      <th>promotion_district_id</th>\n",
       "      <th>promotion_name</th>\n",
       "      <th>media_type</th>\n",
       "      <th>cost</th>\n",
       "      <th>start_date</th>\n",
       "      <th>end_date</th>\n",
       "    </tr>\n",
       "  </thead>\n",
       "  <tbody>\n",
       "    <tr>\n",
       "      <th>1</th>\n",
       "      <td>1</td>\n",
       "      <td>110</td>\n",
       "      <td>'High Roller Savings'</td>\n",
       "      <td>'Product Attachment'</td>\n",
       "      <td>'14435.0000'</td>\n",
       "      <td>'1996-01-03 00:00:00'</td>\n",
       "      <td>'1996-01-06 00:00:00'</td>\n",
       "    </tr>\n",
       "    <tr>\n",
       "      <th>2</th>\n",
       "      <td>2</td>\n",
       "      <td>110</td>\n",
       "      <td>'Green Light Special'</td>\n",
       "      <td>'Product Attachment'</td>\n",
       "      <td>'8907.0000'</td>\n",
       "      <td>'1996-01-18 00:00:00'</td>\n",
       "      <td>'1996-01-20 00:00:00'</td>\n",
       "    </tr>\n",
       "  </tbody>\n",
       "</table>\n",
       "</div>"
      ],
      "text/plain": [
       "   promotion_id  promotion_district_id         promotion_name  \\\n",
       "1             1                    110  'High Roller Savings'   \n",
       "2             2                    110  'Green Light Special'   \n",
       "\n",
       "             media_type          cost             start_date  \\\n",
       "1  'Product Attachment'  '14435.0000'  '1996-01-03 00:00:00'   \n",
       "2  'Product Attachment'   '8907.0000'  '1996-01-18 00:00:00'   \n",
       "\n",
       "                end_date  \n",
       "1  '1996-01-06 00:00:00'  \n",
       "2  '1996-01-20 00:00:00'  "
      ]
     },
     "execution_count": 127,
     "metadata": {},
     "output_type": "execute_result"
    }
   ],
   "source": [
    "print(promotion.shape) # Shape of the dataset before removing first row\n",
    "promotion.drop(promotion.index[0], inplace=True)\n",
    "print(promotion.shape) #Shape after removing first row\n",
    "\n",
    "promotion.head(2)"
   ]
  },
  {
   "cell_type": "code",
   "execution_count": 128,
   "metadata": {},
   "outputs": [
    {
     "data": {
      "text/plain": [
       "0"
      ]
     },
     "execution_count": 128,
     "metadata": {},
     "output_type": "execute_result"
    }
   ],
   "source": [
    "promotion.isnull().any().sum()"
   ]
  },
  {
   "cell_type": "markdown",
   "metadata": {},
   "source": [
    "No more missing values"
   ]
  },
  {
   "cell_type": "code",
   "execution_count": 129,
   "metadata": {
    "scrolled": true
   },
   "outputs": [
    {
     "name": "stdout",
     "output_type": "stream",
     "text": [
      "<class 'pandas.core.frame.DataFrame'>\n",
      "Int64Index: 1863 entries, 1 to 1863\n",
      "Data columns (total 7 columns):\n",
      "promotion_id             1863 non-null int64\n",
      "promotion_district_id    1863 non-null int64\n",
      "promotion_name           1863 non-null object\n",
      "media_type               1863 non-null object\n",
      "cost                     1863 non-null object\n",
      "start_date               1863 non-null object\n",
      "end_date                 1863 non-null object\n",
      "dtypes: int64(2), object(5)\n",
      "memory usage: 116.4+ KB\n"
     ]
    }
   ],
   "source": [
    "promotion.info()"
   ]
  },
  {
   "cell_type": "markdown",
   "metadata": {},
   "source": [
    "All columns are in right format except, cost which should be type(float), start_date and end_date should be time(datetime format). Lets convert them to right data type format."
   ]
  },
  {
   "cell_type": "code",
   "execution_count": 130,
   "metadata": {},
   "outputs": [
    {
     "name": "stdout",
     "output_type": "stream",
     "text": [
      "<class 'pandas.core.frame.DataFrame'>\n",
      "Int64Index: 1863 entries, 1 to 1863\n",
      "Data columns (total 7 columns):\n",
      "promotion_id             1863 non-null int64\n",
      "promotion_district_id    1863 non-null int64\n",
      "promotion_name           1863 non-null object\n",
      "media_type               1863 non-null object\n",
      "cost                     1863 non-null float64\n",
      "start_date               1863 non-null datetime64[ns]\n",
      "end_date                 1863 non-null datetime64[ns]\n",
      "dtypes: datetime64[ns](2), float64(1), int64(2), object(2)\n",
      "memory usage: 116.4+ KB\n"
     ]
    }
   ],
   "source": [
    "# promotion['cost'] = promotion['cost'].astype(float) gives us similar error as above in ln[117]\n",
    "'''Gives us error as float values are inside single quotations marks.\n",
    " We will have to remove single quotes, and then convert the entire serie to float type. We will use anonymous function\n",
    " lambda to remove single quotes, and we will apply it to the entire series as we did above in ln 117.\n",
    "'''\n",
    "promotion['cost'] = promotion.cost.apply(lambda x : x.replace('\\'' , \"\")) # Removes single quotes\n",
    "promotion['cost'] = promotion['cost'].astype(float) # Converts promotion['cost'] to float dtype\n",
    "promotion['start_date'] = pd.to_datetime(promotion['start_date']) #convert columns to datetime objects\n",
    "promotion['end_date'] = pd.to_datetime(promotion['end_date'])\n",
    "promotion.info()"
   ]
  },
  {
   "cell_type": "code",
   "execution_count": 131,
   "metadata": {},
   "outputs": [
    {
     "data": {
      "text/html": [
       "<div>\n",
       "<style scoped>\n",
       "    .dataframe tbody tr th:only-of-type {\n",
       "        vertical-align: middle;\n",
       "    }\n",
       "\n",
       "    .dataframe tbody tr th {\n",
       "        vertical-align: top;\n",
       "    }\n",
       "\n",
       "    .dataframe thead th {\n",
       "        text-align: right;\n",
       "    }\n",
       "</style>\n",
       "<table border=\"1\" class=\"dataframe\">\n",
       "  <thead>\n",
       "    <tr style=\"text-align: right;\">\n",
       "      <th></th>\n",
       "      <th>promotion_id</th>\n",
       "      <th>promotion_district_id</th>\n",
       "      <th>cost</th>\n",
       "    </tr>\n",
       "  </thead>\n",
       "  <tbody>\n",
       "    <tr>\n",
       "      <th>count</th>\n",
       "      <td>1863.000000</td>\n",
       "      <td>1863.000000</td>\n",
       "      <td>1863.000000</td>\n",
       "    </tr>\n",
       "    <tr>\n",
       "      <th>mean</th>\n",
       "      <td>948.284487</td>\n",
       "      <td>121.493827</td>\n",
       "      <td>10032.484702</td>\n",
       "    </tr>\n",
       "    <tr>\n",
       "      <th>std</th>\n",
       "      <td>547.441405</td>\n",
       "      <td>6.923383</td>\n",
       "      <td>2904.113058</td>\n",
       "    </tr>\n",
       "    <tr>\n",
       "      <th>min</th>\n",
       "      <td>1.000000</td>\n",
       "      <td>110.000000</td>\n",
       "      <td>5001.000000</td>\n",
       "    </tr>\n",
       "    <tr>\n",
       "      <th>25%</th>\n",
       "      <td>475.000000</td>\n",
       "      <td>115.500000</td>\n",
       "      <td>7525.000000</td>\n",
       "    </tr>\n",
       "    <tr>\n",
       "      <th>50%</th>\n",
       "      <td>948.000000</td>\n",
       "      <td>121.000000</td>\n",
       "      <td>9990.000000</td>\n",
       "    </tr>\n",
       "    <tr>\n",
       "      <th>75%</th>\n",
       "      <td>1420.500000</td>\n",
       "      <td>127.000000</td>\n",
       "      <td>12540.500000</td>\n",
       "    </tr>\n",
       "    <tr>\n",
       "      <th>max</th>\n",
       "      <td>1896.000000</td>\n",
       "      <td>133.000000</td>\n",
       "      <td>14997.000000</td>\n",
       "    </tr>\n",
       "  </tbody>\n",
       "</table>\n",
       "</div>"
      ],
      "text/plain": [
       "       promotion_id  promotion_district_id          cost\n",
       "count   1863.000000            1863.000000   1863.000000\n",
       "mean     948.284487             121.493827  10032.484702\n",
       "std      547.441405               6.923383   2904.113058\n",
       "min        1.000000             110.000000   5001.000000\n",
       "25%      475.000000             115.500000   7525.000000\n",
       "50%      948.000000             121.000000   9990.000000\n",
       "75%     1420.500000             127.000000  12540.500000\n",
       "max     1896.000000             133.000000  14997.000000"
      ]
     },
     "execution_count": 131,
     "metadata": {},
     "output_type": "execute_result"
    }
   ],
   "source": [
    "promotion.describe()"
   ]
  },
  {
   "cell_type": "markdown",
   "metadata": {},
   "source": [
    "## __Transactions data__:"
   ]
  },
  {
   "cell_type": "code",
   "execution_count": 132,
   "metadata": {},
   "outputs": [
    {
     "name": "stdout",
     "output_type": "stream",
     "text": [
      "Missing Values in Transactions dataset:  0\n",
      "Shape of Transactions dataset:  (173602, 11)\n"
     ]
    },
    {
     "data": {
      "text/html": [
       "<div>\n",
       "<style scoped>\n",
       "    .dataframe tbody tr th:only-of-type {\n",
       "        vertical-align: middle;\n",
       "    }\n",
       "\n",
       "    .dataframe tbody tr th {\n",
       "        vertical-align: top;\n",
       "    }\n",
       "\n",
       "    .dataframe thead th {\n",
       "        text-align: right;\n",
       "    }\n",
       "</style>\n",
       "<table border=\"1\" class=\"dataframe\">\n",
       "  <thead>\n",
       "    <tr style=\"text-align: right;\">\n",
       "      <th></th>\n",
       "      <th>product_id</th>\n",
       "      <th>customer_id</th>\n",
       "      <th>store_id</th>\n",
       "      <th>promotion_id</th>\n",
       "      <th>month_of_year</th>\n",
       "      <th>quarter</th>\n",
       "      <th>the_year</th>\n",
       "      <th>store_sales</th>\n",
       "      <th>store_cost</th>\n",
       "      <th>unit_sales</th>\n",
       "      <th>fact_count</th>\n",
       "    </tr>\n",
       "  </thead>\n",
       "  <tbody>\n",
       "    <tr>\n",
       "      <th>0</th>\n",
       "      <td>1</td>\n",
       "      <td>157</td>\n",
       "      <td>24</td>\n",
       "      <td>1869</td>\n",
       "      <td>12</td>\n",
       "      <td>'Q4'</td>\n",
       "      <td>1997</td>\n",
       "      <td>'8.5500'</td>\n",
       "      <td>'2.9925'</td>\n",
       "      <td>'3.0000'</td>\n",
       "      <td>1</td>\n",
       "    </tr>\n",
       "    <tr>\n",
       "      <th>1</th>\n",
       "      <td>1</td>\n",
       "      <td>456</td>\n",
       "      <td>15</td>\n",
       "      <td>0</td>\n",
       "      <td>6</td>\n",
       "      <td>'Q2'</td>\n",
       "      <td>1997</td>\n",
       "      <td>'11.4000'</td>\n",
       "      <td>'4.3320'</td>\n",
       "      <td>'4.0000'</td>\n",
       "      <td>1</td>\n",
       "    </tr>\n",
       "    <tr>\n",
       "      <th>2</th>\n",
       "      <td>1</td>\n",
       "      <td>638</td>\n",
       "      <td>11</td>\n",
       "      <td>0</td>\n",
       "      <td>9</td>\n",
       "      <td>'Q3'</td>\n",
       "      <td>1997</td>\n",
       "      <td>'8.5500'</td>\n",
       "      <td>'2.9925'</td>\n",
       "      <td>'3.0000'</td>\n",
       "      <td>1</td>\n",
       "    </tr>\n",
       "  </tbody>\n",
       "</table>\n",
       "</div>"
      ],
      "text/plain": [
       "   product_id   customer_id   store_id   promotion_id   month_of_year  \\\n",
       "0           1           157         24           1869              12   \n",
       "1           1           456         15              0               6   \n",
       "2           1           638         11              0               9   \n",
       "\n",
       "   quarter   the_year  store_sales  store_cost  unit_sales  fact_count  \n",
       "0     'Q4'       1997     '8.5500'    '2.9925'    '3.0000'           1  \n",
       "1     'Q2'       1997    '11.4000'    '4.3320'    '4.0000'           1  \n",
       "2     'Q3'       1997     '8.5500'    '2.9925'    '3.0000'           1  "
      ]
     },
     "execution_count": 132,
     "metadata": {},
     "output_type": "execute_result"
    }
   ],
   "source": [
    "print(\"Missing Values in Transactions dataset: \", transactions.isnull().any().sum()) #checking for missing values\n",
    "print(\"Shape of Transactions dataset: \",transactions.shape) #checking number of rows and columns\n",
    "transactions.head(3) #checking first few rows and columns of product data"
   ]
  },
  {
   "cell_type": "code",
   "execution_count": 133,
   "metadata": {},
   "outputs": [
    {
     "data": {
      "text/plain": [
       "Index(['product_id', 'customer_id', 'store_id', 'promotion_id',\n",
       "       'month_of_year', 'quarter', 'the_year', 'store_sales', 'store_cost',\n",
       "       'unit_sales', 'fact_count'],\n",
       "      dtype='object')"
      ]
     },
     "execution_count": 133,
     "metadata": {},
     "output_type": "execute_result"
    }
   ],
   "source": [
    "transactions.columns = transactions.columns.str.lstrip() #Removes white spaces in front of the names\n",
    "transactions.columns"
   ]
  },
  {
   "cell_type": "code",
   "execution_count": 134,
   "metadata": {},
   "outputs": [
    {
     "name": "stdout",
     "output_type": "stream",
     "text": [
      "<class 'pandas.core.frame.DataFrame'>\n",
      "RangeIndex: 173602 entries, 0 to 173601\n",
      "Data columns (total 11 columns):\n",
      "product_id       173602 non-null int64\n",
      "customer_id      173602 non-null int64\n",
      "store_id         173602 non-null int64\n",
      "promotion_id     173602 non-null int64\n",
      "month_of_year    173602 non-null int64\n",
      "quarter          173602 non-null object\n",
      "the_year         173602 non-null int64\n",
      "store_sales      173602 non-null object\n",
      "store_cost       173602 non-null object\n",
      "unit_sales       173602 non-null object\n",
      "fact_count       173602 non-null object\n",
      "dtypes: int64(6), object(5)\n",
      "memory usage: 14.6+ MB\n"
     ]
    }
   ],
   "source": [
    "transactions.info()"
   ]
  },
  {
   "cell_type": "markdown",
   "metadata": {},
   "source": [
    "store_sales, store_cost, unit_sales should be type float and fact_count should be int"
   ]
  },
  {
   "cell_type": "code",
   "execution_count": 135,
   "metadata": {},
   "outputs": [],
   "source": [
    "transactions['store_sales'] = transactions['store_sales'].apply(lambda x : x.replace('\\'' , \"\")) # Removes single quotes\n",
    "transactions['store_cost']  = transactions['store_cost'].apply(lambda x: x.replace('\\'', \"\"))\n",
    "transactions['unit_sales']  = transactions['unit_sales'].apply(lambda x: x.replace('\\'', \"\"))\n",
    "transactions['store_sales'] = transactions['store_sales'].astype(float)\n",
    "transactions['store_cost'] = transactions['store_cost'].astype(float)\n",
    "transactions['unit_sales'] = transactions['unit_sales'].astype(float)"
   ]
  },
  {
   "cell_type": "code",
   "execution_count": 136,
   "metadata": {},
   "outputs": [
    {
     "name": "stdout",
     "output_type": "stream",
     "text": [
      "1      131025\n",
      "1       42511\n",
      "2          47\n",
      "2          17\n",
      "1);         2\n",
      "Name: fact_count, dtype: int64\n"
     ]
    }
   ],
   "source": [
    "print(transactions.fact_count.value_counts())"
   ]
  },
  {
   "cell_type": "markdown",
   "metadata": {},
   "source": [
    "There are irregular values in fact_count series<br>\n",
    "- '1);' should replaced with 1 <br>\n",
    "- we have two 1s and two 2s, one is type int and other type string. <br>\n",
    "\n",
    "Easy way to handle this situation is by using lambda function convert all the values to string (int 1s and int 2s will also be converted to string as replace function only works with type string) and then replace '1);' with 1. \n",
    "In the end we will only have two values in fact_count 1 and 2 both string which we will convert to integers."
   ]
  },
  {
   "cell_type": "code",
   "execution_count": 137,
   "metadata": {},
   "outputs": [],
   "source": [
    "transactions['fact_count'] = transactions['fact_count'].apply(lambda x : str(x).replace('1);' , \"1\"))\n",
    "transactions['fact_count'] = transactions['fact_count'].astype(int)"
   ]
  },
  {
   "cell_type": "code",
   "execution_count": 138,
   "metadata": {},
   "outputs": [
    {
     "data": {
      "text/plain": [
       "{1, 2}"
      ]
     },
     "execution_count": 138,
     "metadata": {},
     "output_type": "execute_result"
    }
   ],
   "source": [
    "set(transactions.fact_count) #checking values in transaction.fact_count"
   ]
  },
  {
   "cell_type": "code",
   "execution_count": 139,
   "metadata": {},
   "outputs": [
    {
     "name": "stdout",
     "output_type": "stream",
     "text": [
      "<class 'pandas.core.frame.DataFrame'>\n",
      "RangeIndex: 173602 entries, 0 to 173601\n",
      "Data columns (total 11 columns):\n",
      "product_id       173602 non-null int64\n",
      "customer_id      173602 non-null int64\n",
      "store_id         173602 non-null int64\n",
      "promotion_id     173602 non-null int64\n",
      "month_of_year    173602 non-null int64\n",
      "quarter          173602 non-null object\n",
      "the_year         173602 non-null int64\n",
      "store_sales      173602 non-null float64\n",
      "store_cost       173602 non-null float64\n",
      "unit_sales       173602 non-null float64\n",
      "fact_count       173602 non-null int64\n",
      "dtypes: float64(3), int64(7), object(1)\n",
      "memory usage: 14.6+ MB\n"
     ]
    }
   ],
   "source": [
    "transactions.info()"
   ]
  },
  {
   "cell_type": "markdown",
   "metadata": {},
   "source": [
    "All the columns are in correct data type format. <br>\n",
    "\n",
    "__This concludes Data Wrangling part as all the datasets are in correct format, Irregular values has been taken care of and all the columns are in right data type format and they are ready for further analysis.__"
   ]
  },
  {
   "cell_type": "code",
   "execution_count": 140,
   "metadata": {},
   "outputs": [
    {
     "data": {
      "text/html": [
       "<div>\n",
       "<style scoped>\n",
       "    .dataframe tbody tr th:only-of-type {\n",
       "        vertical-align: middle;\n",
       "    }\n",
       "\n",
       "    .dataframe tbody tr th {\n",
       "        vertical-align: top;\n",
       "    }\n",
       "\n",
       "    .dataframe thead th {\n",
       "        text-align: right;\n",
       "    }\n",
       "</style>\n",
       "<table border=\"1\" class=\"dataframe\">\n",
       "  <thead>\n",
       "    <tr style=\"text-align: right;\">\n",
       "      <th></th>\n",
       "      <th>product_class_id</th>\n",
       "      <th>product_id</th>\n",
       "      <th>brand_name</th>\n",
       "      <th>product_name</th>\n",
       "      <th>SKU</th>\n",
       "      <th>SRP</th>\n",
       "      <th>gross_weight</th>\n",
       "      <th>net_weight</th>\n",
       "      <th>recyclable_package</th>\n",
       "      <th>low_fat</th>\n",
       "      <th>units_per_case</th>\n",
       "      <th>cases_per_pallet</th>\n",
       "      <th>shelf_width</th>\n",
       "      <th>shelf_height</th>\n",
       "      <th>shelf_depth</th>\n",
       "    </tr>\n",
       "  </thead>\n",
       "  <tbody>\n",
       "    <tr>\n",
       "      <th>0</th>\n",
       "      <td>30</td>\n",
       "      <td>1</td>\n",
       "      <td>'Washington'</td>\n",
       "      <td>'Washington Berry Juice'</td>\n",
       "      <td>90748583674</td>\n",
       "      <td>2.85</td>\n",
       "      <td>8.39</td>\n",
       "      <td>6.39</td>\n",
       "      <td>0</td>\n",
       "      <td>0</td>\n",
       "      <td>30</td>\n",
       "      <td>14</td>\n",
       "      <td>16.9</td>\n",
       "      <td>12.60</td>\n",
       "      <td>7.4</td>\n",
       "    </tr>\n",
       "    <tr>\n",
       "      <th>1</th>\n",
       "      <td>52</td>\n",
       "      <td>2</td>\n",
       "      <td>'Washington'</td>\n",
       "      <td>'Washington Mango Drink'</td>\n",
       "      <td>96516502499</td>\n",
       "      <td>0.74</td>\n",
       "      <td>7.42</td>\n",
       "      <td>4.42</td>\n",
       "      <td>0</td>\n",
       "      <td>1</td>\n",
       "      <td>18</td>\n",
       "      <td>8</td>\n",
       "      <td>13.4</td>\n",
       "      <td>3.71</td>\n",
       "      <td>22.6</td>\n",
       "    </tr>\n",
       "  </tbody>\n",
       "</table>\n",
       "</div>"
      ],
      "text/plain": [
       "   product_class_id  product_id    brand_name              product_name  \\\n",
       "0                30           1  'Washington'  'Washington Berry Juice'   \n",
       "1                52           2  'Washington'  'Washington Mango Drink'   \n",
       "\n",
       "           SKU   SRP  gross_weight  net_weight  recyclable_package  low_fat  \\\n",
       "0  90748583674  2.85          8.39        6.39                   0        0   \n",
       "1  96516502499  0.74          7.42        4.42                   0        1   \n",
       "\n",
       "   units_per_case  cases_per_pallet  shelf_width  shelf_height  shelf_depth  \n",
       "0              30                14         16.9         12.60          7.4  \n",
       "1              18                 8         13.4          3.71         22.6  "
      ]
     },
     "execution_count": 140,
     "metadata": {},
     "output_type": "execute_result"
    }
   ],
   "source": [
    "product.head(2)"
   ]
  },
  {
   "cell_type": "code",
   "execution_count": 141,
   "metadata": {},
   "outputs": [
    {
     "data": {
      "text/html": [
       "<div>\n",
       "<style scoped>\n",
       "    .dataframe tbody tr th:only-of-type {\n",
       "        vertical-align: middle;\n",
       "    }\n",
       "\n",
       "    .dataframe tbody tr th {\n",
       "        vertical-align: top;\n",
       "    }\n",
       "\n",
       "    .dataframe thead th {\n",
       "        text-align: right;\n",
       "    }\n",
       "</style>\n",
       "<table border=\"1\" class=\"dataframe\">\n",
       "  <thead>\n",
       "    <tr style=\"text-align: right;\">\n",
       "      <th></th>\n",
       "      <th>product_class_id</th>\n",
       "      <th>product_subcategory</th>\n",
       "      <th>product_category</th>\n",
       "      <th>product_department</th>\n",
       "      <th>product_family</th>\n",
       "    </tr>\n",
       "  </thead>\n",
       "  <tbody>\n",
       "    <tr>\n",
       "      <th>0</th>\n",
       "      <td>1</td>\n",
       "      <td>'Nuts'</td>\n",
       "      <td>'Specialty'</td>\n",
       "      <td>'Produce'</td>\n",
       "      <td>'Food'</td>\n",
       "    </tr>\n",
       "    <tr>\n",
       "      <th>1</th>\n",
       "      <td>2</td>\n",
       "      <td>'Shellfish'</td>\n",
       "      <td>'Seafood'</td>\n",
       "      <td>'Seafood'</td>\n",
       "      <td>'Food'</td>\n",
       "    </tr>\n",
       "  </tbody>\n",
       "</table>\n",
       "</div>"
      ],
      "text/plain": [
       "   product_class_id product_subcategory product_category product_department  \\\n",
       "0                 1              'Nuts'      'Specialty'          'Produce'   \n",
       "1                 2         'Shellfish'        'Seafood'          'Seafood'   \n",
       "\n",
       "  product_family  \n",
       "0         'Food'  \n",
       "1         'Food'  "
      ]
     },
     "execution_count": 141,
     "metadata": {},
     "output_type": "execute_result"
    }
   ],
   "source": [
    "product_classes.head(2)"
   ]
  },
  {
   "cell_type": "code",
   "execution_count": 142,
   "metadata": {},
   "outputs": [
    {
     "data": {
      "text/html": [
       "<div>\n",
       "<style scoped>\n",
       "    .dataframe tbody tr th:only-of-type {\n",
       "        vertical-align: middle;\n",
       "    }\n",
       "\n",
       "    .dataframe tbody tr th {\n",
       "        vertical-align: top;\n",
       "    }\n",
       "\n",
       "    .dataframe thead th {\n",
       "        text-align: right;\n",
       "    }\n",
       "</style>\n",
       "<table border=\"1\" class=\"dataframe\">\n",
       "  <thead>\n",
       "    <tr style=\"text-align: right;\">\n",
       "      <th></th>\n",
       "      <th>promotion_id</th>\n",
       "      <th>promotion_district_id</th>\n",
       "      <th>promotion_name</th>\n",
       "      <th>media_type</th>\n",
       "      <th>cost</th>\n",
       "      <th>start_date</th>\n",
       "      <th>end_date</th>\n",
       "    </tr>\n",
       "  </thead>\n",
       "  <tbody>\n",
       "    <tr>\n",
       "      <th>1</th>\n",
       "      <td>1</td>\n",
       "      <td>110</td>\n",
       "      <td>'High Roller Savings'</td>\n",
       "      <td>'Product Attachment'</td>\n",
       "      <td>14435.0</td>\n",
       "      <td>1996-01-03</td>\n",
       "      <td>1996-01-06</td>\n",
       "    </tr>\n",
       "    <tr>\n",
       "      <th>2</th>\n",
       "      <td>2</td>\n",
       "      <td>110</td>\n",
       "      <td>'Green Light Special'</td>\n",
       "      <td>'Product Attachment'</td>\n",
       "      <td>8907.0</td>\n",
       "      <td>1996-01-18</td>\n",
       "      <td>1996-01-20</td>\n",
       "    </tr>\n",
       "  </tbody>\n",
       "</table>\n",
       "</div>"
      ],
      "text/plain": [
       "   promotion_id  promotion_district_id         promotion_name  \\\n",
       "1             1                    110  'High Roller Savings'   \n",
       "2             2                    110  'Green Light Special'   \n",
       "\n",
       "             media_type     cost start_date   end_date  \n",
       "1  'Product Attachment'  14435.0 1996-01-03 1996-01-06  \n",
       "2  'Product Attachment'   8907.0 1996-01-18 1996-01-20  "
      ]
     },
     "execution_count": 142,
     "metadata": {},
     "output_type": "execute_result"
    }
   ],
   "source": [
    "promotion.head(2)"
   ]
  },
  {
   "cell_type": "code",
   "execution_count": 143,
   "metadata": {},
   "outputs": [
    {
     "data": {
      "text/html": [
       "<div>\n",
       "<style scoped>\n",
       "    .dataframe tbody tr th:only-of-type {\n",
       "        vertical-align: middle;\n",
       "    }\n",
       "\n",
       "    .dataframe tbody tr th {\n",
       "        vertical-align: top;\n",
       "    }\n",
       "\n",
       "    .dataframe thead th {\n",
       "        text-align: right;\n",
       "    }\n",
       "</style>\n",
       "<table border=\"1\" class=\"dataframe\">\n",
       "  <thead>\n",
       "    <tr style=\"text-align: right;\">\n",
       "      <th></th>\n",
       "      <th>product_id</th>\n",
       "      <th>customer_id</th>\n",
       "      <th>store_id</th>\n",
       "      <th>promotion_id</th>\n",
       "      <th>month_of_year</th>\n",
       "      <th>quarter</th>\n",
       "      <th>the_year</th>\n",
       "      <th>store_sales</th>\n",
       "      <th>store_cost</th>\n",
       "      <th>unit_sales</th>\n",
       "      <th>fact_count</th>\n",
       "    </tr>\n",
       "  </thead>\n",
       "  <tbody>\n",
       "    <tr>\n",
       "      <th>0</th>\n",
       "      <td>1</td>\n",
       "      <td>157</td>\n",
       "      <td>24</td>\n",
       "      <td>1869</td>\n",
       "      <td>12</td>\n",
       "      <td>'Q4'</td>\n",
       "      <td>1997</td>\n",
       "      <td>8.55</td>\n",
       "      <td>2.9925</td>\n",
       "      <td>3.0</td>\n",
       "      <td>1</td>\n",
       "    </tr>\n",
       "    <tr>\n",
       "      <th>1</th>\n",
       "      <td>1</td>\n",
       "      <td>456</td>\n",
       "      <td>15</td>\n",
       "      <td>0</td>\n",
       "      <td>6</td>\n",
       "      <td>'Q2'</td>\n",
       "      <td>1997</td>\n",
       "      <td>11.40</td>\n",
       "      <td>4.3320</td>\n",
       "      <td>4.0</td>\n",
       "      <td>1</td>\n",
       "    </tr>\n",
       "  </tbody>\n",
       "</table>\n",
       "</div>"
      ],
      "text/plain": [
       "   product_id  customer_id  store_id  promotion_id  month_of_year quarter  \\\n",
       "0           1          157        24          1869             12    'Q4'   \n",
       "1           1          456        15             0              6    'Q2'   \n",
       "\n",
       "   the_year  store_sales  store_cost  unit_sales  fact_count  \n",
       "0      1997         8.55      2.9925         3.0           1  \n",
       "1      1997        11.40      4.3320         4.0           1  "
      ]
     },
     "execution_count": 143,
     "metadata": {},
     "output_type": "execute_result"
    }
   ],
   "source": [
    "transactions.head(2)"
   ]
  },
  {
   "cell_type": "code",
   "execution_count": 144,
   "metadata": {},
   "outputs": [
    {
     "name": "stdout",
     "output_type": "stream",
     "text": [
      "Shape of product dataset  (1560, 15)\n",
      "Shape of product_classes dataset  (110, 5)\n",
      "Shape of transactions dataset  (173602, 11)\n",
      "Shape of promotion dataset  (1863, 7)\n"
     ]
    }
   ],
   "source": [
    "print(\"Shape of product dataset \", product.shape)\n",
    "print(\"Shape of product_classes dataset \", product_classes.shape)\n",
    "print(\"Shape of transactions dataset \", transactions.shape)\n",
    "print(\"Shape of promotion dataset \", promotion.shape)\n"
   ]
  },
  {
   "cell_type": "markdown",
   "metadata": {},
   "source": [
    "### Merging dataframes <br>\n",
    "\n",
    "We will have to combine data from multiple datasets for example: Information about products (categories, subcategories, department etc) is contained in product_classes dataset, Information about Brand name, product name is present in product dataset. We will have to combine information from these two datasets to transactions dataset and using descriptive statistics and visualization technique we will try to undersand the sale trend at these foodmarts.<br>\n",
    "\n",
    "- First we will merge product and product_classes datasets on \"product_class_id\" column<br>\n",
    "- Then we will merge the new dataset (product + product_classes) with transaction dataset on \"product_id\" column<br>\n"
   ]
  },
  {
   "cell_type": "code",
   "execution_count": 145,
   "metadata": {},
   "outputs": [],
   "source": [
    "'''New dataset will only contains columns relevent to our analysis, we will pick them below'''\n",
    "\n",
    "# pro_cols List contains name of the columns we are going to use from product dataset\n",
    "pro_cols = ['product_class_id', 'product_id', 'brand_name', 'product_name']\n",
    "\n",
    "# proclass_col list contains name of the columns we are going to use from product classes dataset\n",
    "proclass_cols = ['product_class_id', 'product_category', 'product_subcategory', 'product_department']\n",
    "\n",
    "# Merging product classes + product\n",
    "df = pd.merge(product[pro_cols], product_classes[proclass_cols], on = 'product_class_id', how = 'left')\n",
    "\n",
    "# Merging with transactions dataset on left join\n",
    "df = pd.merge(transactions, df, on = 'product_id', how = 'left')"
   ]
  },
  {
   "cell_type": "code",
   "execution_count": 146,
   "metadata": {},
   "outputs": [
    {
     "name": "stdout",
     "output_type": "stream",
     "text": [
      "NaN values in df dataframe:  0\n",
      "Shape of df: 173602 rows and 17 columns\n"
     ]
    },
    {
     "data": {
      "text/html": [
       "<div>\n",
       "<style scoped>\n",
       "    .dataframe tbody tr th:only-of-type {\n",
       "        vertical-align: middle;\n",
       "    }\n",
       "\n",
       "    .dataframe tbody tr th {\n",
       "        vertical-align: top;\n",
       "    }\n",
       "\n",
       "    .dataframe thead th {\n",
       "        text-align: right;\n",
       "    }\n",
       "</style>\n",
       "<table border=\"1\" class=\"dataframe\">\n",
       "  <thead>\n",
       "    <tr style=\"text-align: right;\">\n",
       "      <th></th>\n",
       "      <th>product_id</th>\n",
       "      <th>customer_id</th>\n",
       "      <th>store_id</th>\n",
       "      <th>promotion_id</th>\n",
       "      <th>month_of_year</th>\n",
       "      <th>quarter</th>\n",
       "      <th>the_year</th>\n",
       "      <th>store_sales</th>\n",
       "      <th>store_cost</th>\n",
       "      <th>unit_sales</th>\n",
       "      <th>fact_count</th>\n",
       "      <th>product_class_id</th>\n",
       "      <th>brand_name</th>\n",
       "      <th>product_name</th>\n",
       "      <th>product_category</th>\n",
       "      <th>product_subcategory</th>\n",
       "      <th>product_department</th>\n",
       "    </tr>\n",
       "  </thead>\n",
       "  <tbody>\n",
       "    <tr>\n",
       "      <th>0</th>\n",
       "      <td>1</td>\n",
       "      <td>157</td>\n",
       "      <td>24</td>\n",
       "      <td>1869</td>\n",
       "      <td>12</td>\n",
       "      <td>'Q4'</td>\n",
       "      <td>1997</td>\n",
       "      <td>8.55</td>\n",
       "      <td>2.9925</td>\n",
       "      <td>3.0</td>\n",
       "      <td>1</td>\n",
       "      <td>30</td>\n",
       "      <td>'Washington'</td>\n",
       "      <td>'Washington Berry Juice'</td>\n",
       "      <td>'Pure Juice Beverages'</td>\n",
       "      <td>'Juice'</td>\n",
       "      <td>'Beverages'</td>\n",
       "    </tr>\n",
       "    <tr>\n",
       "      <th>1</th>\n",
       "      <td>1</td>\n",
       "      <td>456</td>\n",
       "      <td>15</td>\n",
       "      <td>0</td>\n",
       "      <td>6</td>\n",
       "      <td>'Q2'</td>\n",
       "      <td>1997</td>\n",
       "      <td>11.40</td>\n",
       "      <td>4.3320</td>\n",
       "      <td>4.0</td>\n",
       "      <td>1</td>\n",
       "      <td>30</td>\n",
       "      <td>'Washington'</td>\n",
       "      <td>'Washington Berry Juice'</td>\n",
       "      <td>'Pure Juice Beverages'</td>\n",
       "      <td>'Juice'</td>\n",
       "      <td>'Beverages'</td>\n",
       "    </tr>\n",
       "  </tbody>\n",
       "</table>\n",
       "</div>"
      ],
      "text/plain": [
       "   product_id  customer_id  store_id  promotion_id  month_of_year quarter  \\\n",
       "0           1          157        24          1869             12    'Q4'   \n",
       "1           1          456        15             0              6    'Q2'   \n",
       "\n",
       "   the_year  store_sales  store_cost  unit_sales  fact_count  \\\n",
       "0      1997         8.55      2.9925         3.0           1   \n",
       "1      1997        11.40      4.3320         4.0           1   \n",
       "\n",
       "   product_class_id    brand_name              product_name  \\\n",
       "0                30  'Washington'  'Washington Berry Juice'   \n",
       "1                30  'Washington'  'Washington Berry Juice'   \n",
       "\n",
       "         product_category product_subcategory product_department  \n",
       "0  'Pure Juice Beverages'             'Juice'        'Beverages'  \n",
       "1  'Pure Juice Beverages'             'Juice'        'Beverages'  "
      ]
     },
     "execution_count": 146,
     "metadata": {},
     "output_type": "execute_result"
    }
   ],
   "source": [
    "print(\"NaN values in df dataframe: \", df.isnull().any().sum()) #checking for any NaN values\n",
    "print(\"Shape of df:\", df.shape[0], \"rows and\", df.shape[1], \"columns\")\n",
    "df.head(2)"
   ]
  },
  {
   "cell_type": "markdown",
   "metadata": {},
   "source": [
    "Now that we have 1 dataframe with all the information needed, we can start our analysis to explore the sale trends at foodmarts. "
   ]
  },
  {
   "cell_type": "markdown",
   "metadata": {},
   "source": [
    "### Question 1 <br>\n",
    "\n",
    "#### Management is trying to better understand what is happening at these food marts. Please create some visualizations to help us better understand the following aspects of the Foodmart data: <br>\n",
    "- Category of products sold \n",
    "- Brand of products sold\n"
   ]
  },
  {
   "cell_type": "markdown",
   "metadata": {},
   "source": [
    "### What are the best selling categories? <br> if you want to be successful in generating a substantial income stream. A huge part of this situation comes down to what product category you choose to sell."
   ]
  },
  {
   "cell_type": "code",
   "execution_count": 147,
   "metadata": {
    "scrolled": false
   },
   "outputs": [
    {
     "data": {
      "image/png": "[encoded data removed]",
      "text/plain": [
       "<Figure size 1080x504 with 1 Axes>"
      ]
     },
     "metadata": {},
     "output_type": "display_data"
    }
   ],
   "source": [
    "plt.figure(figsize=(15,7))\n",
    "ax = sns.countplot(x = 'product_category', data = df, order = df.product_category.value_counts().head(10).index, palette=\"vlag\")\n",
    "plt.xticks(rotation=30)\n",
    "plt.title('Top 10 Product categories')\n",
    "plt.ylabel('Number of product sold')\n",
    "plt.xlabel('Product Category');"
   ]
  },
  {
   "cell_type": "markdown",
   "metadata": {},
   "source": [
    "Above chart shows product categories that generate most volume in a Store. The essentials - __Grocery__ is the largest bulk of the sales. "
   ]
  },
  {
   "cell_type": "markdown",
   "metadata": {},
   "source": [
    "### Categories such as Vegetables, Snack Foods and Dairy are top three categories with the most number of product sold. Let's find out below what products under these three categories were best sellers<BR>\n"
   ]
  },
  {
   "cell_type": "markdown",
   "metadata": {},
   "source": [
    "__What are the top 5 best selling vegetables?__"
   ]
  },
  {
   "cell_type": "code",
   "execution_count": 148,
   "metadata": {
    "scrolled": false
   },
   "outputs": [
    {
     "data": {
      "image/png": "[encoded data removed]",
      "text/plain": [
       "<Figure size 1440x432 with 1 Axes>"
      ]
     },
     "metadata": {},
     "output_type": "display_data"
    }
   ],
   "source": [
    "veg = df[df['product_category'] == \"'Vegetables'\"] #subsetting dataset\n",
    "plt.figure(figsize=(20,6))\n",
    "ax = sns.countplot(y = 'product_name', data = veg, order = veg.product_name.value_counts().head(5).index, palette=\"rainbow\")\n",
    "plt.xticks(rotation= 20, fontsize = 20)\n",
    "plt.title('Top 5 Best selling Vegetables', fontsize = 20)\n",
    "plt.xlabel('Total Sold');"
   ]
  },
  {
   "cell_type": "markdown",
   "metadata": {},
   "source": [
    "Broccoli is the most popular and best selling vegetable, It also happens to be a veggie with some of the most health benefits. <br> <br> \n",
    "#### Let's find out what are the top 5 products sold under second best selling category: Snack Food"
   ]
  },
  {
   "cell_type": "code",
   "execution_count": 149,
   "metadata": {},
   "outputs": [
    {
     "data": {
      "image/png": "[encoded data removed]",
      "text/plain": [
       "<Figure size 1440x432 with 1 Axes>"
      ]
     },
     "metadata": {},
     "output_type": "display_data"
    }
   ],
   "source": [
    "snk = df[df['product_category'] == \"'Snack Foods'\"] #subsetting dataset\n",
    "plt.figure(figsize=(20,6))\n",
    "ax = sns.countplot(y = 'product_name', data = snk, order = snk.product_name.value_counts().head(5).index, palette=\"rainbow\")\n",
    "plt.xticks(rotation= 20, fontsize = 20)\n",
    "plt.title('Top 5 Best selling Snacks', fontsize = 20)\n",
    "plt.xlabel('Total sold')\n",
    "plt.ylabel('Product Name (under category Snacks)');"
   ]
  },
  {
   "cell_type": "markdown",
   "metadata": {},
   "source": [
    "Looks like __Beef Jerkies__ are #1 in Americans' hearts and stomachs."
   ]
  },
  {
   "cell_type": "markdown",
   "metadata": {},
   "source": [
    "__What are the Top 5 Dairy products?__"
   ]
  },
  {
   "cell_type": "code",
   "execution_count": 150,
   "metadata": {},
   "outputs": [
    {
     "data": {
      "image/png": "[encoded data removed]",
      "text/plain": [
       "<Figure size 1440x432 with 1 Axes>"
      ]
     },
     "metadata": {},
     "output_type": "display_data"
    }
   ],
   "source": [
    "dairy = df[df['product_category'] == \"'Dairy'\"] #subsetting dataset\n",
    "plt.figure(figsize=(20,6))\n",
    "ax = sns.countplot(y = 'product_name', data = dairy, order = dairy.product_name.value_counts().head(5).index, palette=\"rainbow\")\n",
    "plt.xticks(rotation= 20, fontsize = 20)\n",
    "plt.title('Top 5 Best selling Dairy products', fontsize = 20)\n",
    "plt.xlabel('Total sold')\n",
    "plt.ylabel('Product Name (under category Dairy)');"
   ]
  },
  {
   "cell_type": "markdown",
   "metadata": {},
   "source": [
    "__Milk, Buttermilk and cheese__ are the top selling dairy products"
   ]
  },
  {
   "cell_type": "markdown",
   "metadata": {},
   "source": [
    "### Let's now jump in to Brands and see what are some of the best-selling brands."
   ]
  },
  {
   "cell_type": "code",
   "execution_count": 151,
   "metadata": {},
   "outputs": [
    {
     "data": {
      "image/png": "[encoded data removed]",
      "text/plain": [
       "<Figure size 1080x504 with 1 Axes>"
      ]
     },
     "metadata": {},
     "output_type": "display_data"
    }
   ],
   "source": [
    "plt.figure(figsize=(15,7))\n",
    "ax = sns.countplot(x = 'brand_name', data = df, order = df.brand_name.value_counts().head(10).index, palette=\"rocket\")\n",
    "plt.title('Top 10 Brands by # of Product sold')\n",
    "plt.ylabel('# of Product solds')\n",
    "plt.xlabel('Brand Name');"
   ]
  },
  {
   "cell_type": "markdown",
   "metadata": {},
   "source": [
    "Above Bar chart shows Top 10 brands with the most number of product sold. __Hermanos__ tops the list followed by __Tell Tale__ and __Ebony__. <br>\n",
    "But what exactly these brands sell? What kind of product do they sell? Let's find out. \n",
    "<Br> \n",
    "<br> "
   ]
  },
  {
   "cell_type": "markdown",
   "metadata": {},
   "source": [
    "### <center> Hermanos Top 5 products </center>"
   ]
  },
  {
   "cell_type": "code",
   "execution_count": 152,
   "metadata": {},
   "outputs": [
    {
     "data": {
      "image/png": "[encoded data removed]",
      "text/plain": [
       "<Figure size 1440x432 with 1 Axes>"
      ]
     },
     "metadata": {},
     "output_type": "display_data"
    }
   ],
   "source": [
    "Hermanos = df[df['brand_name'] == \"'Hermanos'\"]\n",
    "plt.figure(figsize=(20,6))\n",
    "ax = sns.countplot(y = 'product_name', data = Hermanos, order = Hermanos.product_name.value_counts().head(5).index, palette=\"rainbow\")\n",
    "plt.xticks(rotation= 20, fontsize = 20)\n",
    "plt.title('Top 5 Best selling Hermanos products', fontsize = 20)\n",
    "plt.xlabel('Total sold')\n",
    "plt.ylabel('Product Name');"
   ]
  },
  {
   "cell_type": "markdown",
   "metadata": {},
   "source": [
    "As shown in the above chart, __Hermanos's__ top 5 best selling product are: Broccoli, Apples, Oranges, Squash and Potato"
   ]
  },
  {
   "cell_type": "markdown",
   "metadata": {},
   "source": [
    "### <center> Tell Tale's Top 5 best selling products </center>"
   ]
  },
  {
   "cell_type": "code",
   "execution_count": 153,
   "metadata": {},
   "outputs": [
    {
     "data": {
      "image/png": "[encoded data removed]",
      "text/plain": [
       "<Figure size 1440x432 with 1 Axes>"
      ]
     },
     "metadata": {},
     "output_type": "display_data"
    }
   ],
   "source": [
    "tell_tale = df[df['brand_name'] == \"'Tell Tale'\"]\n",
    "plt.figure(figsize=(20,6))\n",
    "ax = sns.countplot(y = 'product_name', data = tell_tale, order = tell_tale.product_name.value_counts().head(5).index, palette=\"rainbow\")\n",
    "plt.xticks(rotation= 20, fontsize = 20)\n",
    "plt.title('Tell Tale\\'s Top 5 Best selling products', fontsize = 20)\n",
    "plt.xlabel('Total sold')\n",
    "plt.ylabel('Product Name');"
   ]
  },
  {
   "cell_type": "markdown",
   "metadata": {},
   "source": [
    "### <center> Ebony's Top 5 best selling products </center>"
   ]
  },
  {
   "cell_type": "code",
   "execution_count": 154,
   "metadata": {},
   "outputs": [
    {
     "data": {
      "image/png": "[encoded data removed]",
      "text/plain": [
       "<Figure size 1440x432 with 1 Axes>"
      ]
     },
     "metadata": {},
     "output_type": "display_data"
    }
   ],
   "source": [
    "ebony = df[df['brand_name'] == \"'Ebony'\"]\n",
    "plt.figure(figsize=(20,6))\n",
    "ax = sns.countplot(y = 'product_name', data = ebony, order = ebony.product_name.value_counts().head(5).index, palette=\"rainbow\")\n",
    "plt.xticks(rotation= 20, fontsize = 20)\n",
    "plt.title('Ebony\\'s Top 5 Best selling products', fontsize = 20)\n",
    "plt.xlabel('Total sold')\n",
    "plt.ylabel('Product Name');"
   ]
  },
  {
   "cell_type": "markdown",
   "metadata": {},
   "source": [
    "Above charts showed us Top 10 best selling categories, Best selling product under top categories, Top brands and their product. "
   ]
  },
  {
   "cell_type": "markdown",
   "metadata": {},
   "source": [
    "### Question 2<br>\n",
    "\n",
    "#### Foodmart is developing their strategy for the next year. One of their goals is to increase sales and profitability. Please provide the executive team with insights from the data that highlight growth opportunities. Here are some ideas to get you started: <br>\n",
    "\n",
    "    - Expand product offerings: which products or categories should we expand and why? \n",
    "    - Offer more promotions: how should we target our promotions and why?\n",
    "    - Market to a certain customer segment: what segment of customers should we market to and how?\n",
    "    \n",
    "Feel free to think of other ideas. Please focus on only 1 to 2 opportunities and provide an executive summary of your recommendations, the potential impact, and what data you found to support your strategy."
   ]
  },
  {
   "cell_type": "markdown",
   "metadata": {},
   "source": [
    "### Let's explore how promotions effects sale trend <br>\n",
    "    - For purpose of this HW i am going to assume customer_id 0 = (New Customer) and promotion_id 0 = (No promotional Transaction)\n"
   ]
  },
  {
   "cell_type": "markdown",
   "metadata": {},
   "source": [
    "To better explore this lets create two new binary columns in our dataframe.<br>\n",
    "    - First column will be categorical columns which will tell use if the transaction was promotional or not \"No promotion\" if promotion_id = 0 and \"On promotion\" if promotion_id = anything else but 0 <br>\n",
    "    - Second column will be categorical column as well \"New Customer\": if customer_id = 0  and \"Returning customers\" if customer_id = anything else but 0<br>"
   ]
  },
  {
   "cell_type": "code",
   "execution_count": 155,
   "metadata": {},
   "outputs": [],
   "source": [
    "# Lets create two function that will loop through customer_id column and promotion_id column in df and creates two new columns\n",
    "def first_func(x):\n",
    "    if x == 0:\n",
    "        return \"No promotion\"\n",
    "    else:\n",
    "        return \"Promotional transaction\"\n",
    "    \n",
    "def second_func(x):\n",
    "    if x == 0:\n",
    "        return \"New Customer\"\n",
    "    else:\n",
    "        return \"Returning customer\"\n",
    "    \n",
    "df['promotion_no_promotion'] = df.promotion_id.apply(first_func)\n",
    "df['new_cust_returning_cust'] = df.customer_id.apply(second_func)"
   ]
  },
  {
   "cell_type": "code",
   "execution_count": 156,
   "metadata": {},
   "outputs": [
    {
     "data": {
      "text/html": [
       "<div>\n",
       "<style scoped>\n",
       "    .dataframe tbody tr th:only-of-type {\n",
       "        vertical-align: middle;\n",
       "    }\n",
       "\n",
       "    .dataframe tbody tr th {\n",
       "        vertical-align: top;\n",
       "    }\n",
       "\n",
       "    .dataframe thead th {\n",
       "        text-align: right;\n",
       "    }\n",
       "</style>\n",
       "<table border=\"1\" class=\"dataframe\">\n",
       "  <thead>\n",
       "    <tr style=\"text-align: right;\">\n",
       "      <th></th>\n",
       "      <th>product_id</th>\n",
       "      <th>customer_id</th>\n",
       "      <th>store_id</th>\n",
       "      <th>promotion_id</th>\n",
       "      <th>month_of_year</th>\n",
       "      <th>quarter</th>\n",
       "      <th>the_year</th>\n",
       "      <th>store_sales</th>\n",
       "      <th>store_cost</th>\n",
       "      <th>unit_sales</th>\n",
       "      <th>fact_count</th>\n",
       "      <th>product_class_id</th>\n",
       "      <th>brand_name</th>\n",
       "      <th>product_name</th>\n",
       "      <th>product_category</th>\n",
       "      <th>product_subcategory</th>\n",
       "      <th>product_department</th>\n",
       "      <th>promotion_no_promotion</th>\n",
       "      <th>new_cust_returning_cust</th>\n",
       "    </tr>\n",
       "  </thead>\n",
       "  <tbody>\n",
       "    <tr>\n",
       "      <th>0</th>\n",
       "      <td>1</td>\n",
       "      <td>157</td>\n",
       "      <td>24</td>\n",
       "      <td>1869</td>\n",
       "      <td>12</td>\n",
       "      <td>'Q4'</td>\n",
       "      <td>1997</td>\n",
       "      <td>8.55</td>\n",
       "      <td>2.9925</td>\n",
       "      <td>3.0</td>\n",
       "      <td>1</td>\n",
       "      <td>30</td>\n",
       "      <td>'Washington'</td>\n",
       "      <td>'Washington Berry Juice'</td>\n",
       "      <td>'Pure Juice Beverages'</td>\n",
       "      <td>'Juice'</td>\n",
       "      <td>'Beverages'</td>\n",
       "      <td>Promotional transaction</td>\n",
       "      <td>Returning customer</td>\n",
       "    </tr>\n",
       "    <tr>\n",
       "      <th>1</th>\n",
       "      <td>1</td>\n",
       "      <td>456</td>\n",
       "      <td>15</td>\n",
       "      <td>0</td>\n",
       "      <td>6</td>\n",
       "      <td>'Q2'</td>\n",
       "      <td>1997</td>\n",
       "      <td>11.40</td>\n",
       "      <td>4.3320</td>\n",
       "      <td>4.0</td>\n",
       "      <td>1</td>\n",
       "      <td>30</td>\n",
       "      <td>'Washington'</td>\n",
       "      <td>'Washington Berry Juice'</td>\n",
       "      <td>'Pure Juice Beverages'</td>\n",
       "      <td>'Juice'</td>\n",
       "      <td>'Beverages'</td>\n",
       "      <td>No promotion</td>\n",
       "      <td>Returning customer</td>\n",
       "    </tr>\n",
       "    <tr>\n",
       "      <th>2</th>\n",
       "      <td>1</td>\n",
       "      <td>638</td>\n",
       "      <td>11</td>\n",
       "      <td>0</td>\n",
       "      <td>9</td>\n",
       "      <td>'Q3'</td>\n",
       "      <td>1997</td>\n",
       "      <td>8.55</td>\n",
       "      <td>2.9925</td>\n",
       "      <td>3.0</td>\n",
       "      <td>1</td>\n",
       "      <td>30</td>\n",
       "      <td>'Washington'</td>\n",
       "      <td>'Washington Berry Juice'</td>\n",
       "      <td>'Pure Juice Beverages'</td>\n",
       "      <td>'Juice'</td>\n",
       "      <td>'Beverages'</td>\n",
       "      <td>No promotion</td>\n",
       "      <td>Returning customer</td>\n",
       "    </tr>\n",
       "    <tr>\n",
       "      <th>3</th>\n",
       "      <td>1</td>\n",
       "      <td>916</td>\n",
       "      <td>7</td>\n",
       "      <td>0</td>\n",
       "      <td>4</td>\n",
       "      <td>'Q2'</td>\n",
       "      <td>1997</td>\n",
       "      <td>11.40</td>\n",
       "      <td>4.9020</td>\n",
       "      <td>4.0</td>\n",
       "      <td>1</td>\n",
       "      <td>30</td>\n",
       "      <td>'Washington'</td>\n",
       "      <td>'Washington Berry Juice'</td>\n",
       "      <td>'Pure Juice Beverages'</td>\n",
       "      <td>'Juice'</td>\n",
       "      <td>'Beverages'</td>\n",
       "      <td>No promotion</td>\n",
       "      <td>Returning customer</td>\n",
       "    </tr>\n",
       "    <tr>\n",
       "      <th>4</th>\n",
       "      <td>1</td>\n",
       "      <td>923</td>\n",
       "      <td>15</td>\n",
       "      <td>0</td>\n",
       "      <td>7</td>\n",
       "      <td>'Q3'</td>\n",
       "      <td>1997</td>\n",
       "      <td>8.55</td>\n",
       "      <td>2.7360</td>\n",
       "      <td>3.0</td>\n",
       "      <td>1</td>\n",
       "      <td>30</td>\n",
       "      <td>'Washington'</td>\n",
       "      <td>'Washington Berry Juice'</td>\n",
       "      <td>'Pure Juice Beverages'</td>\n",
       "      <td>'Juice'</td>\n",
       "      <td>'Beverages'</td>\n",
       "      <td>No promotion</td>\n",
       "      <td>Returning customer</td>\n",
       "    </tr>\n",
       "  </tbody>\n",
       "</table>\n",
       "</div>"
      ],
      "text/plain": [
       "   product_id  customer_id  store_id  promotion_id  month_of_year quarter  \\\n",
       "0           1          157        24          1869             12    'Q4'   \n",
       "1           1          456        15             0              6    'Q2'   \n",
       "2           1          638        11             0              9    'Q3'   \n",
       "3           1          916         7             0              4    'Q2'   \n",
       "4           1          923        15             0              7    'Q3'   \n",
       "\n",
       "   the_year  store_sales  store_cost  unit_sales  fact_count  \\\n",
       "0      1997         8.55      2.9925         3.0           1   \n",
       "1      1997        11.40      4.3320         4.0           1   \n",
       "2      1997         8.55      2.9925         3.0           1   \n",
       "3      1997        11.40      4.9020         4.0           1   \n",
       "4      1997         8.55      2.7360         3.0           1   \n",
       "\n",
       "   product_class_id    brand_name              product_name  \\\n",
       "0                30  'Washington'  'Washington Berry Juice'   \n",
       "1                30  'Washington'  'Washington Berry Juice'   \n",
       "2                30  'Washington'  'Washington Berry Juice'   \n",
       "3                30  'Washington'  'Washington Berry Juice'   \n",
       "4                30  'Washington'  'Washington Berry Juice'   \n",
       "\n",
       "         product_category product_subcategory product_department  \\\n",
       "0  'Pure Juice Beverages'             'Juice'        'Beverages'   \n",
       "1  'Pure Juice Beverages'             'Juice'        'Beverages'   \n",
       "2  'Pure Juice Beverages'             'Juice'        'Beverages'   \n",
       "3  'Pure Juice Beverages'             'Juice'        'Beverages'   \n",
       "4  'Pure Juice Beverages'             'Juice'        'Beverages'   \n",
       "\n",
       "    promotion_no_promotion new_cust_returning_cust  \n",
       "0  Promotional transaction      Returning customer  \n",
       "1             No promotion      Returning customer  \n",
       "2             No promotion      Returning customer  \n",
       "3             No promotion      Returning customer  \n",
       "4             No promotion      Returning customer  "
      ]
     },
     "execution_count": 156,
     "metadata": {},
     "output_type": "execute_result"
    }
   ],
   "source": [
    "df.head()"
   ]
  },
  {
   "cell_type": "markdown",
   "metadata": {},
   "source": [
    "Now that we have to new columns it will be easier for us to differ between Promotion transaction vs no promotion transactions and New customer vs Returning customers. <Br>\n",
    "    - Market to a certain customer segment: what segment of customers should we market to and how?\n"
   ]
  },
  {
   "cell_type": "code",
   "execution_count": 157,
   "metadata": {},
   "outputs": [
    {
     "data": {
      "image/png": "[encoded data removed]",
      "text/plain": [
       "<Figure size 1080x504 with 1 Axes>"
      ]
     },
     "metadata": {},
     "output_type": "display_data"
    }
   ],
   "source": [
    "plt.figure(figsize=(15,7))\n",
    "ax = sns.countplot(x = 'promotion_no_promotion', hue = 'new_cust_returning_cust', data = df, palette=\"Set2\")"
   ]
  },
  {
   "cell_type": "markdown",
   "metadata": {},
   "source": [
    "#### According to the chart above Promotion marketing has pulled in many new customers (one with customer_id = 0). Surprisingly these new customers did not show up on no promotion days. <br>\n",
    "\n",
    "\n",
    "### Bringing new customers into your business is the most important thing you’ll do, but how on earth do you make them your regular customers? <br>\n",
    "#### Let's explore top promotions that brought these new customers in\n"
   ]
  },
  {
   "cell_type": "code",
   "execution_count": 158,
   "metadata": {},
   "outputs": [
    {
     "data": {
      "text/plain": [
       "13    11136\n",
       "17     8455\n",
       "3      5905\n",
       "15     5904\n",
       "24     5711\n",
       "Name: promotion_id, dtype: int64"
      ]
     },
     "execution_count": 158,
     "metadata": {},
     "output_type": "execute_result"
    }
   ],
   "source": [
    "df[df['new_cust_returning_cust'] == 'New Customer'].promotion_id.value_counts().head()"
   ]
  },
  {
   "cell_type": "code",
   "execution_count": 159,
   "metadata": {},
   "outputs": [
    {
     "data": {
      "text/html": [
       "<div>\n",
       "<style scoped>\n",
       "    .dataframe tbody tr th:only-of-type {\n",
       "        vertical-align: middle;\n",
       "    }\n",
       "\n",
       "    .dataframe tbody tr th {\n",
       "        vertical-align: top;\n",
       "    }\n",
       "\n",
       "    .dataframe thead th {\n",
       "        text-align: right;\n",
       "    }\n",
       "</style>\n",
       "<table border=\"1\" class=\"dataframe\">\n",
       "  <thead>\n",
       "    <tr style=\"text-align: right;\">\n",
       "      <th></th>\n",
       "      <th>promotion_id</th>\n",
       "      <th>promotion_district_id</th>\n",
       "      <th>promotion_name</th>\n",
       "      <th>media_type</th>\n",
       "      <th>cost</th>\n",
       "      <th>start_date</th>\n",
       "      <th>end_date</th>\n",
       "    </tr>\n",
       "  </thead>\n",
       "  <tbody>\n",
       "    <tr>\n",
       "      <th>3</th>\n",
       "      <td>3</td>\n",
       "      <td>110</td>\n",
       "      <td>'Wallet Savers'</td>\n",
       "      <td>'Radio'</td>\n",
       "      <td>12512.0</td>\n",
       "      <td>1996-02-02</td>\n",
       "      <td>1996-02-05</td>\n",
       "    </tr>\n",
       "    <tr>\n",
       "      <th>13</th>\n",
       "      <td>13</td>\n",
       "      <td>110</td>\n",
       "      <td>'Price Winners'</td>\n",
       "      <td>'Cash Register Handout'</td>\n",
       "      <td>11674.0</td>\n",
       "      <td>1996-06-19</td>\n",
       "      <td>1996-06-22</td>\n",
       "    </tr>\n",
       "    <tr>\n",
       "      <th>15</th>\n",
       "      <td>15</td>\n",
       "      <td>110</td>\n",
       "      <td>'Save-It Sale'</td>\n",
       "      <td>'Sunday Paper Radio'</td>\n",
       "      <td>6842.0</td>\n",
       "      <td>1996-07-18</td>\n",
       "      <td>1996-07-22</td>\n",
       "    </tr>\n",
       "    <tr>\n",
       "      <th>17</th>\n",
       "      <td>17</td>\n",
       "      <td>110</td>\n",
       "      <td>'Savings Galore'</td>\n",
       "      <td>'Cash Register Handout'</td>\n",
       "      <td>13694.0</td>\n",
       "      <td>1996-08-16</td>\n",
       "      <td>1996-08-17</td>\n",
       "    </tr>\n",
       "    <tr>\n",
       "      <th>24</th>\n",
       "      <td>24</td>\n",
       "      <td>110</td>\n",
       "      <td>'Best Savings'</td>\n",
       "      <td>'Sunday Paper'</td>\n",
       "      <td>10597.0</td>\n",
       "      <td>1996-11-21</td>\n",
       "      <td>1996-11-22</td>\n",
       "    </tr>\n",
       "  </tbody>\n",
       "</table>\n",
       "</div>"
      ],
      "text/plain": [
       "    promotion_id  promotion_district_id    promotion_name  \\\n",
       "3              3                    110   'Wallet Savers'   \n",
       "13            13                    110   'Price Winners'   \n",
       "15            15                    110    'Save-It Sale'   \n",
       "17            17                    110  'Savings Galore'   \n",
       "24            24                    110    'Best Savings'   \n",
       "\n",
       "                 media_type     cost start_date   end_date  \n",
       "3                   'Radio'  12512.0 1996-02-02 1996-02-05  \n",
       "13  'Cash Register Handout'  11674.0 1996-06-19 1996-06-22  \n",
       "15     'Sunday Paper Radio'   6842.0 1996-07-18 1996-07-22  \n",
       "17  'Cash Register Handout'  13694.0 1996-08-16 1996-08-17  \n",
       "24           'Sunday Paper'  10597.0 1996-11-21 1996-11-22  "
      ]
     },
     "execution_count": 159,
     "metadata": {},
     "output_type": "execute_result"
    }
   ],
   "source": [
    "promotion[(promotion['promotion_id'] == 13) | (promotion['promotion_id'] == 17) | (promotion['promotion_id'] == 3) | (promotion['promotion_id'] == 15) | (promotion['promotion_id'] == 24)]"
   ]
  },
  {
   "cell_type": "markdown",
   "metadata": {},
   "source": [
    "### Above dataframe shows promotions that attracted new customers. Promotions such as \"Price Winners\", \"Savings Galore\", \"Wallet Saver\", \"Save-it Sale\" are top promotions that attracted new customers <br>\n"
   ]
  },
  {
   "cell_type": "markdown",
   "metadata": {},
   "source": [
    "### Business Recommendations\n",
    "#### Based on the Exploratory Data Analysis  we can make the following suggestions to our clients: <br>\n",
    "    \n",
    "    -Product categories such as \"Vegetables & Fruits\", \"Snacks\", \"Dairy\" generates most volume in a store. It makes perfect business sense to invest more resources in improving these sections of the store, as these sections attract the most customers.\n",
    "    \n",
    "    -Brands sucsh as \"Hermanos\", \"Tell-tale\" \"Ebony\" were the top selling brands, Foodmarts should focus more on these brands, for example make better relationship with their distributors to get these brands on much better price so they can be sold at reasoanable price to attract more customers.\n",
    "    \n",
    "    -Foodmarts should specifically focus more on promotions such as \"Price Winner\", \"Savings Galore\", \"Wallter Saver\", \"Save-it Sale\" as these promotions brought in the most number of new customers, along these promotions they should also start loyalty program, or similar to convert these new customers to regular customers. Maximum marketing effort must be aimed at these people and the most enticing, attractive offers must be made to them to increase their instore transaction rate.\n"
   ]
  },
  {
   "cell_type": "code",
   "execution_count": null,
   "metadata": {},
   "outputs": [],
   "source": []
  },
  {
   "cell_type": "code",
   "execution_count": null,
   "metadata": {},
   "outputs": [],
   "source": []
  }
 ],
 "metadata": {
  "kernelspec": {
   "display_name": "Python 3",
   "language": "python",
   "name": "python3"
  },
  "language_info": {
   "codemirror_mode": {
    "name": "ipython",
    "version": 3
   },
   "file_extension": ".py",
   "mimetype": "text/x-python",
   "name": "python",
   "nbconvert_exporter": "python",
   "pygments_lexer": "ipython3",
   "version": "3.6.6"
  }
 },
 "nbformat": 4,
 "nbformat_minor": 2
}
